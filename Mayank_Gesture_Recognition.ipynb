{
 "cells": [
  {
   "cell_type": "markdown",
   "metadata": {},
   "source": [
    "# Gesture Recognition\n",
    "In this group project, you are going to build a 3D Conv model that will be able to predict the 5 gestures correctly. Please import the following libraries to get started. Once you have completed the code you can download the notebook for making a submission."
   ]
  },
  {
   "cell_type": "code",
   "execution_count": 28,
   "metadata": {},
   "outputs": [],
   "source": [
    "import numpy as np\n",
    "import os\n",
    "from imageio import imread\n",
    "from skimage.transform import resize\n",
    "import datetime\n",
    "import os"
   ]
  },
  {
   "cell_type": "code",
   "execution_count": 29,
   "metadata": {},
   "outputs": [
    {
     "name": "stdout",
     "output_type": "stream",
     "text": [
      "Sat Sep 28 11:40:06 2024       \n",
      "+---------------------------------------------------------------------------------------+\n",
      "| NVIDIA-SMI 535.104.05             Driver Version: 535.104.05   CUDA Version: 12.2     |\n",
      "|-----------------------------------------+----------------------+----------------------+\n",
      "| GPU  Name                 Persistence-M | Bus-Id        Disp.A | Volatile Uncorr. ECC |\n",
      "| Fan  Temp   Perf          Pwr:Usage/Cap |         Memory-Usage | GPU-Util  Compute M. |\n",
      "|                                         |                      |               MIG M. |\n",
      "|=========================================+======================+======================|\n",
      "|   0  Quadro RTX 5000                Off | 00000000:1B:00.0 Off |                  Off |\n",
      "| 33%   32C    P8              10W / 230W |    762MiB / 16384MiB |      0%      Default |\n",
      "|                                         |                      |                  N/A |\n",
      "+-----------------------------------------+----------------------+----------------------+\n",
      "                                                                                         \n",
      "+---------------------------------------------------------------------------------------+\n",
      "| Processes:                                                                            |\n",
      "|  GPU   GI   CI        PID   Type   Process name                            GPU Memory |\n",
      "|        ID   ID                                                             Usage      |\n",
      "|=======================================================================================|\n",
      "+---------------------------------------------------------------------------------------+\n"
     ]
    }
   ],
   "source": [
    "!nvidia-smi"
   ]
  },
  {
   "cell_type": "markdown",
   "metadata": {},
   "source": [
    "We set the random seed so that the results don't vary drastically."
   ]
  },
  {
   "cell_type": "code",
   "execution_count": 30,
   "metadata": {},
   "outputs": [],
   "source": [
    "np.random.seed(30)\n",
    "import random as rn\n",
    "rn.seed(30)\n",
    "from tensorflow import keras\n",
    "import cv2\n",
    "import tensorflow as tf\n",
    "tf.random.set_seed(30)\n",
    "import matplotlib.pyplot as plt\n",
    "%matplotlib inline"
   ]
  },
  {
   "cell_type": "markdown",
   "metadata": {},
   "source": [
    "In this block, you read the folder names for training and validation. You also set the `batch_size` here. Note that you set the batch size in such a way that you are able to use the GPU in full capacity. You keep increasing the batch size until the machine throws an error."
   ]
  },
  {
   "cell_type": "markdown",
   "metadata": {},
   "source": [
    "**data path: /home/datasets/Project_data**"
   ]
  },
  {
   "cell_type": "code",
   "execution_count": 31,
   "metadata": {},
   "outputs": [],
   "source": [
    "project_folder = '/home/datasets/Project_data'"
   ]
  },
  {
   "cell_type": "code",
   "execution_count": 32,
   "metadata": {},
   "outputs": [],
   "source": [
    "train_doc = np.random.permutation(open('/home/datasets/Project_data/train.csv').readlines())\n",
    "val_doc = np.random.permutation(open('/home/datasets/Project_data/val.csv').readlines())\n",
    "batch_size = 10 #experiment with the batch size"
   ]
  },
  {
   "cell_type": "markdown",
   "metadata": {},
   "source": [
    "## Configration"
   ]
  },
  {
   "cell_type": "code",
   "execution_count": 33,
   "metadata": {},
   "outputs": [
    {
     "name": "stdout",
     "output_type": "stream",
     "text": [
      "# training sequences = 663\n",
      "# validation sequences = 100\n",
      "# epochs = 50\n"
     ]
    }
   ],
   "source": [
    "image_count = 30 # number of images to be used for each video\n",
    "image_height=160\n",
    "image_width=160\n",
    "channels=3\n",
    "num_classes=5 # number of classes\n",
    "input_shape=(image_count,image_width,image_height,channels)\n",
    "\n",
    "curr_dt_time = datetime.datetime.now()\n",
    "train_path = f'{project_folder}/train'\n",
    "val_path = f'{project_folder}/val'\n",
    "num_train_sequences = len(train_doc)\n",
    "print('# training sequences =', num_train_sequences)\n",
    "num_val_sequences = len(val_doc)\n",
    "print('# validation sequences =', num_val_sequences)\n",
    "num_epochs = 50 # choose the number of epochs  \n",
    "print ('# epochs =', num_epochs)"
   ]
  },
  {
   "cell_type": "markdown",
   "metadata": {},
   "source": [
    "## Generator\n",
    "This is one of the most important part of the code. The overall structure of the generator has been given. In the generator, you are going to preprocess the images as you have images of 2 different dimensions as well as create a batch of video frames. You have to experiment with `img_idx`, `y`,`z` and normalization such that you get high accuracy."
   ]
  },
  {
   "cell_type": "code",
   "execution_count": 34,
   "metadata": {},
   "outputs": [],
   "source": [
    "def generator(source_path, folder_list, batch_size):\n",
    "    print( 'Source path = ', source_path, '; batch size =', batch_size)\n",
    "    img_idx =[x for x in range(0,image_count)]\n",
    "    while True:\n",
    "        t = np.random.permutation(folder_list)\n",
    "        num_batches = len(t)//batch_size    # calculate the number of batches\n",
    "        for batch in range(num_batches): # we iterate over the number of batches\n",
    "            batch_data = np.zeros((batch_size,image_count,image_width,image_height,channels)) # x is the number of images you use for each video, (y,z) is the final size of the input images and 3 is the number of channels RGB\n",
    "            batch_labels = np.zeros((batch_size,num_classes)) # batch_labels is the one hot representation of the output\n",
    "            for folder in range(batch_size): # iterate over the batch_size\n",
    "                imgs = os.listdir(source_path+'/'+ t[folder + (batch*batch_size)].split(';')[0]) # read all the images in the folder\n",
    "                for idx,item in enumerate(img_idx): #  Iterate iver the frames/images of a folder to read them in\n",
    "                    image = imread(source_path+'/'+ t[folder + (batch*batch_size)].strip().split(';')[0]+'/'+imgs[item]).astype(np.float32)\n",
    "                    \n",
    "                    #crop the images and resize them. Note that the images are of 2 different shape \n",
    "                    #and the conv3D will throw error if the inputs in a batch have different shapes\n",
    "                    \n",
    "                    temp = cv2.resize(image,(image_width,image_height))\n",
    "                    temp = temp/255 #Normalize data\n",
    "                    \n",
    "                    batch_data[folder,idx,:,:,0] = (temp[:,:,0])  #normalise and feed in the image\n",
    "                    batch_data[folder,idx,:,:,1] = (temp[:,:,1])  #normalise and feed in the image\n",
    "                    batch_data[folder,idx,:,:,2] = (temp[:,:,2])  #normalise and feed in the image\n",
    "                    \n",
    "                batch_labels[folder, int(t[folder + (batch*batch_size)].strip().split(';')[2])] = 1\n",
    "            yield batch_data, batch_labels #you yield the batch_data and the batch_labels, remember what does yield do\n",
    "\n",
    "        \n",
    "        # write the code for the remaining data points which are left after full batches\n",
    "        if (len(folder_list) != batch_size*num_batches):\n",
    "            print(\"Batch: \",num_batches+1,\"Index:\", batch_size)\n",
    "            batch_size = len(folder_list) - (batch_size*num_batches)\n",
    "            batch_data = np.zeros((batch_size,image_count,image_width,image_height,channels)) # x is the number of images you use for each video, (y,z) is the final size of the input images and 3 is the number of channels RGB\n",
    "            batch_labels = np.zeros((batch_size,num_classes)) # batch_labels is the one hot representation of the output\n",
    "            for folder in range(batch_size): # iterate over the batch_size\n",
    "                imgs = os.listdir(source_path+'/'+ t[folder + (batch*batch_size)].split(';')[0]) # read all the images in the folder\n",
    "                for idx,item in enumerate(img_idx): #  Iterate iver the frames/images of a folder to read them in\n",
    "                    image = imread(source_path+'/'+ t[folder + (batch*batch_size)].strip().split(';')[0]+'/'+imgs[item]).astype(np.float32)\n",
    "                    \n",
    "                    #crop the images and resize them. Note that the images are of 2 different shape \n",
    "                    #and the conv3D will throw error if the inputs in a batch have different shapes\n",
    "                    temp = cv2.resize(image,(image_width,image_height))\n",
    "                    temp = temp/255 #Normalize data\n",
    "                    \n",
    "                    batch_data[folder,idx,:,:,0] = (temp[:,:,0])\n",
    "                    batch_data[folder,idx,:,:,1] = (temp[:,:,1])\n",
    "                    batch_data[folder,idx,:,:,2] = (temp[:,:,2])\n",
    "                   \n",
    "                batch_labels[folder, int(t[folder + (batch*batch_size)].strip().split(';')[2])] = 1\n",
    "            yield batch_data, batch_labels"
   ]
  },
  {
   "cell_type": "markdown",
   "metadata": {},
   "source": [
    "Note here that a video is represented above in the generator as (number of images, height, width, number of channels). Take this into consideration while creating the model architecture."
   ]
  },
  {
   "cell_type": "markdown",
   "metadata": {},
   "source": [
    "## Model\n",
    "Here you make the model using different functionalities that Keras provides. Remember to use `Conv3D` and `MaxPooling3D` and not `Conv2D` and `Maxpooling2D` for a 3D convolution model. You would want to use `TimeDistributed` while building a Conv2D + RNN model. Also remember that the last layer is the softmax. Design the network in such a way that the model is able to give good accuracy on the least number of parameters so that it can fit in the memory of the webcam."
   ]
  },
  {
   "cell_type": "code",
   "execution_count": 35,
   "metadata": {},
   "outputs": [],
   "source": [
    "from tensorflow.keras.models import Sequential\n",
    "from tensorflow.keras.layers import Dense, GRU, Dropout, Flatten, BatchNormalization, Activation, Conv3D, MaxPooling3D\n",
    "from tensorflow.keras.callbacks import ModelCheckpoint, ReduceLROnPlateau\n",
    "from tensorflow.keras import optimizers"
   ]
  },
  {
   "cell_type": "code",
   "execution_count": 36,
   "metadata": {},
   "outputs": [],
   "source": [
    "from tensorflow.keras.applications import MobileNet\n",
    "from tensorflow.keras.layers import TimeDistributed, GlobalAveragePooling2D"
   ]
  },
  {
   "cell_type": "markdown",
   "metadata": {},
   "source": [
    "## First / Second Experiment"
   ]
  },
  {
   "cell_type": "code",
   "execution_count": 73,
   "metadata": {},
   "outputs": [],
   "source": [
    "# model = Sequential()\n",
    "# model.add(Conv3D(16, (3, 3, 3), padding='same',\n",
    "#           input_shape=input_shape))\n",
    "# model.add(Activation('relu'))\n",
    "# model.add(MaxPooling3D(pool_size=(2, 2, 2)))\n",
    "\n",
    "# model.add(Conv3D(32, (2, 2, 2), padding='same'))\n",
    "# model.add(Activation('relu'))\n",
    "# model.add(MaxPooling3D(pool_size=(2, 2, 2)))\n",
    "\n",
    "# model.add(Conv3D(64, (2, 2, 2), padding='same'))\n",
    "# model.add(Activation('relu'))\n",
    "# model.add(MaxPooling3D(pool_size=(2, 2, 2)))\n",
    "\n",
    "# model.add(Conv3D(128, (2, 2, 2), padding='same'))\n",
    "# model.add(Activation('relu'))\n",
    "# model.add(MaxPooling3D(pool_size=(2, 2, 2)))\n",
    "\n",
    "# model.add(Flatten())\n",
    "# model.add(Dense(128,activation='relu'))\n",
    "# model.add(Dense(64,activation='relu'))\n",
    "\n",
    "# model.add(Dense(num_classes,activation='softmax'))\n"
   ]
  },
  {
   "cell_type": "code",
   "execution_count": null,
   "metadata": {},
   "outputs": [],
   "source": [
    "## batch size = 10"
   ]
  },
  {
   "cell_type": "code",
   "execution_count": 37,
   "metadata": {},
   "outputs": [],
   "source": [
    "from tensorflow.keras.applications import ResNet152V2\n",
    "# EfficientNetB7 with rnn gru units\n",
    "model = Sequential()\n",
    "model.add(TimeDistributed(ResNet152V2(weights='imagenet', include_top=False),input_shape=input_shape, name='ResNet152V2', trainable=False))\n",
    "model.add(TimeDistributed(GlobalAveragePooling2D()))\n",
    "model.add(TimeDistributed(Dense(64, activation='relu')))\n",
    "model.add(Dense(256, activation='relu'))\n",
    "model.add(BatchNormalization())\n",
    "model.add(GRU(128, return_sequences=True))\n",
    "model.add(BatchNormalization())\n",
    "model.add(Flatten())\n",
    "model.add(Dense(256, activation='relu'))\n",
    "model.add(Dense(num_classes, activation='softmax'))"
   ]
  },
  {
   "cell_type": "markdown",
   "metadata": {},
   "source": [
    "Now that you have written the model, the next step is to `compile` the model. When you print the `summary` of the model, you'll see the total number of parameters you have to train."
   ]
  },
  {
   "cell_type": "code",
   "execution_count": 38,
   "metadata": {
    "scrolled": true
   },
   "outputs": [
    {
     "name": "stdout",
     "output_type": "stream",
     "text": [
      "Model: \"sequential_5\"\n",
      "_________________________________________________________________\n",
      " Layer (type)                Output Shape              Param #   \n",
      "=================================================================\n",
      " ResNet152V2 (TimeDistribute  (None, 30, 5, 5, 2048)   58331648  \n",
      " d)                                                              \n",
      "                                                                 \n",
      " time_distributed_2 (TimeDis  (None, 30, 2048)         0         \n",
      " tributed)                                                       \n",
      "                                                                 \n",
      " time_distributed_3 (TimeDis  (None, 30, 64)           131136    \n",
      " tributed)                                                       \n",
      "                                                                 \n",
      " dense_5 (Dense)             (None, 30, 256)           16640     \n",
      "                                                                 \n",
      " batch_normalization_2 (Batc  (None, 30, 256)          1024      \n",
      " hNormalization)                                                 \n",
      "                                                                 \n",
      " gru_1 (GRU)                 (None, 30, 128)           148224    \n",
      "                                                                 \n",
      " batch_normalization_3 (Batc  (None, 30, 128)          512       \n",
      " hNormalization)                                                 \n",
      "                                                                 \n",
      " flatten_1 (Flatten)         (None, 3840)              0         \n",
      "                                                                 \n",
      " dense_6 (Dense)             (None, 256)               983296    \n",
      "                                                                 \n",
      " dense_7 (Dense)             (None, 5)                 1285      \n",
      "                                                                 \n",
      "=================================================================\n",
      "Total params: 59,613,765\n",
      "Trainable params: 1,281,349\n",
      "Non-trainable params: 58,332,416\n",
      "_________________________________________________________________\n",
      "None\n"
     ]
    }
   ],
   "source": [
    "optimiser = optimizers.Adam() #write your optimizer\n",
    "model.compile(optimizer=optimiser, loss='categorical_crossentropy', metrics=['categorical_accuracy'])\n",
    "print (model.summary())"
   ]
  },
  {
   "cell_type": "markdown",
   "metadata": {},
   "source": [
    "Let us create the `train_generator` and the `val_generator` which will be used in `.fit_generator`."
   ]
  },
  {
   "cell_type": "code",
   "execution_count": 39,
   "metadata": {},
   "outputs": [],
   "source": [
    "train_generator = generator(train_path, train_doc, batch_size)\n",
    "val_generator = generator(val_path, val_doc, batch_size)"
   ]
  },
  {
   "cell_type": "code",
   "execution_count": 40,
   "metadata": {},
   "outputs": [
    {
     "name": "stdout",
     "output_type": "stream",
     "text": [
      "WARNING:tensorflow:`period` argument is deprecated. Please use `save_freq` to specify the frequency in number of batches seen.\n"
     ]
    }
   ],
   "source": [
    "model_name = 'model_init' + '_' + str(curr_dt_time).replace(' ','').replace(':','_') + '/'\n",
    "    \n",
    "if not os.path.exists(model_name):\n",
    "    os.mkdir(model_name)\n",
    "        \n",
    "filepath = model_name + 'model-{epoch:05d}-{loss:.5f}-{categorical_accuracy:.5f}-{val_loss:.5f}-{val_categorical_accuracy:.5f}.h5'\n",
    "\n",
    "checkpoint = ModelCheckpoint(filepath, monitor='val_loss', verbose=1, save_best_only=False, save_weights_only=False, mode='auto', period=1)\n",
    "\n",
    "LR = ReduceLROnPlateau(monitor='val_loss', factor=0.2, patience=5, verbose=1, mode='auto')\n",
    "callbacks_list = [checkpoint, LR]"
   ]
  },
  {
   "cell_type": "markdown",
   "metadata": {},
   "source": [
    "The `steps_per_epoch` and `validation_steps` are used by `fit` method to decide the number of next() calls it need to make."
   ]
  },
  {
   "cell_type": "code",
   "execution_count": 41,
   "metadata": {},
   "outputs": [],
   "source": [
    "if (num_train_sequences%batch_size) == 0:\n",
    "    steps_per_epoch = int(num_train_sequences/batch_size)\n",
    "else:\n",
    "    steps_per_epoch = (num_train_sequences//batch_size) + 1\n",
    "\n",
    "if (num_val_sequences%batch_size) == 0:\n",
    "    validation_steps = int(num_val_sequences/batch_size)\n",
    "else:\n",
    "    validation_steps = (num_val_sequences//batch_size) + 1"
   ]
  },
  {
   "cell_type": "markdown",
   "metadata": {},
   "source": [
    "Let us now fit the model. This will start training the model and with the help of the checkpoints, you'll be able to save the model at the end of each epoch."
   ]
  },
  {
   "cell_type": "code",
   "execution_count": 42,
   "metadata": {},
   "outputs": [
    {
     "name": "stdout",
     "output_type": "stream",
     "text": [
      "Source path =  /home/datasets/Project_data/train ; batch size = 10\n",
      "Epoch 1/50\n"
     ]
    },
    {
     "name": "stderr",
     "output_type": "stream",
     "text": [
      "2024-09-28 11:41:26.486767: I tensorflow/stream_executor/cuda/cuda_dnn.cc:377] Loaded cuDNN version 8302\n"
     ]
    },
    {
     "name": "stdout",
     "output_type": "stream",
     "text": [
      "65/67 [============================>.] - ETA: 2s - loss: 2.8988 - categorical_accuracy: 0.4231Batch:  67 Index: 10\n",
      "67/67 [==============================] - ETA: 0s - loss: 2.8946 - categorical_accuracy: 0.4268Source path =  /home/datasets/Project_data/val ; batch size = 10\n",
      "\n",
      "Epoch 00001: saving model to model_init_2024-09-2811_40_20.930409/model-00001-2.89459-0.42685-7.21159-0.32000.h5\n"
     ]
    },
    {
     "name": "stderr",
     "output_type": "stream",
     "text": [
      "/usr/local/lib/python3.8/dist-packages/keras/engine/functional.py:1410: CustomMaskWarning: Custom mask layers require a config and must override get_config. When loading, the custom mask layer must be passed to the custom_objects argument.\n",
      "  layer_config = serialize_layer_fn(layer)\n"
     ]
    },
    {
     "name": "stdout",
     "output_type": "stream",
     "text": [
      "67/67 [==============================] - 114s 1s/step - loss: 2.8946 - categorical_accuracy: 0.4268 - val_loss: 7.2116 - val_categorical_accuracy: 0.3200 - lr: 0.0010\n",
      "Epoch 2/50\n",
      "67/67 [==============================] - ETA: 0s - loss: 4.0349 - categorical_accuracy: 0.4627\n",
      "Epoch 00002: saving model to model_init_2024-09-2811_40_20.930409/model-00002-4.03492-0.46269-5.76846-0.36000.h5\n",
      "67/67 [==============================] - 40s 605ms/step - loss: 4.0349 - categorical_accuracy: 0.4627 - val_loss: 5.7685 - val_categorical_accuracy: 0.3600 - lr: 0.0010\n",
      "Epoch 3/50\n",
      "67/67 [==============================] - ETA: 0s - loss: 4.0338 - categorical_accuracy: 0.4527\n",
      "Epoch 00003: saving model to model_init_2024-09-2811_40_20.930409/model-00003-4.03381-0.45274-22.50703-0.24000.h5\n",
      "67/67 [==============================] - 39s 582ms/step - loss: 4.0338 - categorical_accuracy: 0.4527 - val_loss: 22.5070 - val_categorical_accuracy: 0.2400 - lr: 0.0010\n",
      "Epoch 4/50\n",
      "67/67 [==============================] - ETA: 0s - loss: 4.0209 - categorical_accuracy: 0.4030\n",
      "Epoch 00004: saving model to model_init_2024-09-2811_40_20.930409/model-00004-4.02092-0.40299-7.30597-0.36000.h5\n",
      "67/67 [==============================] - 39s 583ms/step - loss: 4.0209 - categorical_accuracy: 0.4030 - val_loss: 7.3060 - val_categorical_accuracy: 0.3600 - lr: 0.0010\n",
      "Epoch 5/50\n",
      "67/67 [==============================] - ETA: 0s - loss: 2.0805 - categorical_accuracy: 0.5771\n",
      "Epoch 00005: saving model to model_init_2024-09-2811_40_20.930409/model-00005-2.08054-0.57711-3.13959-0.51000.h5\n",
      "67/67 [==============================] - 39s 580ms/step - loss: 2.0805 - categorical_accuracy: 0.5771 - val_loss: 3.1396 - val_categorical_accuracy: 0.5100 - lr: 0.0010\n",
      "Epoch 6/50\n",
      "67/67 [==============================] - ETA: 0s - loss: 2.0393 - categorical_accuracy: 0.5174\n",
      "Epoch 00006: saving model to model_init_2024-09-2811_40_20.930409/model-00006-2.03930-0.51741-3.78592-0.38000.h5\n",
      "67/67 [==============================] - 38s 576ms/step - loss: 2.0393 - categorical_accuracy: 0.5174 - val_loss: 3.7859 - val_categorical_accuracy: 0.3800 - lr: 0.0010\n",
      "Epoch 7/50\n",
      "67/67 [==============================] - ETA: 0s - loss: 1.9255 - categorical_accuracy: 0.5572\n",
      "Epoch 00007: saving model to model_init_2024-09-2811_40_20.930409/model-00007-1.92554-0.55721-3.02735-0.55000.h5\n",
      "67/67 [==============================] - 39s 578ms/step - loss: 1.9255 - categorical_accuracy: 0.5572 - val_loss: 3.0274 - val_categorical_accuracy: 0.5500 - lr: 0.0010\n",
      "Epoch 8/50\n",
      "67/67 [==============================] - ETA: 0s - loss: 1.2744 - categorical_accuracy: 0.6070\n",
      "Epoch 00008: saving model to model_init_2024-09-2811_40_20.930409/model-00008-1.27442-0.60697-2.75171-0.51000.h5\n",
      "67/67 [==============================] - 39s 585ms/step - loss: 1.2744 - categorical_accuracy: 0.6070 - val_loss: 2.7517 - val_categorical_accuracy: 0.5100 - lr: 0.0010\n",
      "Epoch 9/50\n",
      "67/67 [==============================] - ETA: 0s - loss: 1.2331 - categorical_accuracy: 0.6119\n",
      "Epoch 00009: saving model to model_init_2024-09-2811_40_20.930409/model-00009-1.23314-0.61194-2.42837-0.48000.h5\n",
      "67/67 [==============================] - 40s 606ms/step - loss: 1.2331 - categorical_accuracy: 0.6119 - val_loss: 2.4284 - val_categorical_accuracy: 0.4800 - lr: 0.0010\n",
      "Epoch 10/50\n",
      "67/67 [==============================] - ETA: 0s - loss: 1.1603 - categorical_accuracy: 0.6766\n",
      "Epoch 00010: saving model to model_init_2024-09-2811_40_20.930409/model-00010-1.16033-0.67662-1.55502-0.53000.h5\n",
      "67/67 [==============================] - 39s 592ms/step - loss: 1.1603 - categorical_accuracy: 0.6766 - val_loss: 1.5550 - val_categorical_accuracy: 0.5300 - lr: 0.0010\n",
      "Epoch 11/50\n",
      "67/67 [==============================] - ETA: 0s - loss: 1.2272 - categorical_accuracy: 0.5473\n",
      "Epoch 00011: saving model to model_init_2024-09-2811_40_20.930409/model-00011-1.22721-0.54726-1.77961-0.54000.h5\n",
      "67/67 [==============================] - 39s 587ms/step - loss: 1.2272 - categorical_accuracy: 0.5473 - val_loss: 1.7796 - val_categorical_accuracy: 0.5400 - lr: 0.0010\n",
      "Epoch 12/50\n",
      "67/67 [==============================] - ETA: 0s - loss: 0.8594 - categorical_accuracy: 0.6915\n",
      "Epoch 00012: saving model to model_init_2024-09-2811_40_20.930409/model-00012-0.85941-0.69154-2.37349-0.54000.h5\n",
      "67/67 [==============================] - 39s 585ms/step - loss: 0.8594 - categorical_accuracy: 0.6915 - val_loss: 2.3735 - val_categorical_accuracy: 0.5400 - lr: 0.0010\n",
      "Epoch 13/50\n",
      "67/67 [==============================] - ETA: 0s - loss: 0.7213 - categorical_accuracy: 0.7512\n",
      "Epoch 00013: saving model to model_init_2024-09-2811_40_20.930409/model-00013-0.72131-0.75124-1.91218-0.53000.h5\n",
      "67/67 [==============================] - 40s 595ms/step - loss: 0.7213 - categorical_accuracy: 0.7512 - val_loss: 1.9122 - val_categorical_accuracy: 0.5300 - lr: 0.0010\n",
      "Epoch 14/50\n",
      "67/67 [==============================] - ETA: 0s - loss: 1.1533 - categorical_accuracy: 0.6020\n",
      "Epoch 00014: saving model to model_init_2024-09-2811_40_20.930409/model-00014-1.15334-0.60199-2.08258-0.53000.h5\n",
      "67/67 [==============================] - 38s 572ms/step - loss: 1.1533 - categorical_accuracy: 0.6020 - val_loss: 2.0826 - val_categorical_accuracy: 0.5300 - lr: 0.0010\n",
      "Epoch 15/50\n",
      "67/67 [==============================] - ETA: 0s - loss: 0.8159 - categorical_accuracy: 0.7015\n",
      "Epoch 00015: saving model to model_init_2024-09-2811_40_20.930409/model-00015-0.81593-0.70149-1.48965-0.71000.h5\n",
      "67/67 [==============================] - 38s 576ms/step - loss: 0.8159 - categorical_accuracy: 0.7015 - val_loss: 1.4896 - val_categorical_accuracy: 0.7100 - lr: 0.0010\n",
      "Epoch 16/50\n",
      "67/67 [==============================] - ETA: 0s - loss: 0.6634 - categorical_accuracy: 0.7413\n",
      "Epoch 00016: saving model to model_init_2024-09-2811_40_20.930409/model-00016-0.66339-0.74129-1.75785-0.50000.h5\n",
      "67/67 [==============================] - 40s 594ms/step - loss: 0.6634 - categorical_accuracy: 0.7413 - val_loss: 1.7579 - val_categorical_accuracy: 0.5000 - lr: 0.0010\n",
      "Epoch 17/50\n",
      "67/67 [==============================] - ETA: 0s - loss: 0.8307 - categorical_accuracy: 0.6716\n",
      "Epoch 00017: saving model to model_init_2024-09-2811_40_20.930409/model-00017-0.83073-0.67164-1.90526-0.61000.h5\n",
      "67/67 [==============================] - 39s 582ms/step - loss: 0.8307 - categorical_accuracy: 0.6716 - val_loss: 1.9053 - val_categorical_accuracy: 0.6100 - lr: 0.0010\n",
      "Epoch 18/50\n",
      "67/67 [==============================] - ETA: 0s - loss: 0.6482 - categorical_accuracy: 0.7711\n",
      "Epoch 00018: saving model to model_init_2024-09-2811_40_20.930409/model-00018-0.64816-0.77114-2.04434-0.67000.h5\n",
      "67/67 [==============================] - 38s 576ms/step - loss: 0.6482 - categorical_accuracy: 0.7711 - val_loss: 2.0443 - val_categorical_accuracy: 0.6700 - lr: 0.0010\n",
      "Epoch 19/50\n",
      "67/67 [==============================] - ETA: 0s - loss: 0.6672 - categorical_accuracy: 0.7313\n",
      "Epoch 00019: saving model to model_init_2024-09-2811_40_20.930409/model-00019-0.66718-0.73134-1.74790-0.66000.h5\n",
      "67/67 [==============================] - 38s 569ms/step - loss: 0.6672 - categorical_accuracy: 0.7313 - val_loss: 1.7479 - val_categorical_accuracy: 0.6600 - lr: 0.0010\n",
      "Epoch 20/50\n",
      "67/67 [==============================] - ETA: 0s - loss: 0.5321 - categorical_accuracy: 0.7861\n",
      "Epoch 00020: saving model to model_init_2024-09-2811_40_20.930409/model-00020-0.53213-0.78607-1.29638-0.68000.h5\n",
      "67/67 [==============================] - 38s 565ms/step - loss: 0.5321 - categorical_accuracy: 0.7861 - val_loss: 1.2964 - val_categorical_accuracy: 0.6800 - lr: 0.0010\n",
      "Epoch 21/50\n",
      "67/67 [==============================] - ETA: 0s - loss: 0.6695 - categorical_accuracy: 0.7612\n",
      "Epoch 00021: saving model to model_init_2024-09-2811_40_20.930409/model-00021-0.66953-0.76119-1.96048-0.58000.h5\n",
      "67/67 [==============================] - 38s 570ms/step - loss: 0.6695 - categorical_accuracy: 0.7612 - val_loss: 1.9605 - val_categorical_accuracy: 0.5800 - lr: 0.0010\n",
      "Epoch 22/50\n",
      "67/67 [==============================] - ETA: 0s - loss: 0.4928 - categorical_accuracy: 0.8209\n",
      "Epoch 00022: saving model to model_init_2024-09-2811_40_20.930409/model-00022-0.49276-0.82090-2.08875-0.63000.h5\n",
      "67/67 [==============================] - 38s 571ms/step - loss: 0.4928 - categorical_accuracy: 0.8209 - val_loss: 2.0888 - val_categorical_accuracy: 0.6300 - lr: 0.0010\n",
      "Epoch 23/50\n",
      "67/67 [==============================] - ETA: 0s - loss: 0.7363 - categorical_accuracy: 0.7313\n",
      "Epoch 00023: saving model to model_init_2024-09-2811_40_20.930409/model-00023-0.73628-0.73134-1.46997-0.59000.h5\n",
      "67/67 [==============================] - 39s 578ms/step - loss: 0.7363 - categorical_accuracy: 0.7313 - val_loss: 1.4700 - val_categorical_accuracy: 0.5900 - lr: 0.0010\n",
      "Epoch 24/50\n",
      "67/67 [==============================] - ETA: 0s - loss: 0.7843 - categorical_accuracy: 0.7761\n",
      "Epoch 00024: saving model to model_init_2024-09-2811_40_20.930409/model-00024-0.78426-0.77612-2.10086-0.56000.h5\n",
      "67/67 [==============================] - 38s 571ms/step - loss: 0.7843 - categorical_accuracy: 0.7761 - val_loss: 2.1009 - val_categorical_accuracy: 0.5600 - lr: 0.0010\n",
      "Epoch 25/50\n",
      "67/67 [==============================] - ETA: 0s - loss: 0.6610 - categorical_accuracy: 0.7662\n",
      "Epoch 00025: saving model to model_init_2024-09-2811_40_20.930409/model-00025-0.66104-0.76617-1.28244-0.57000.h5\n",
      "67/67 [==============================] - 38s 576ms/step - loss: 0.6610 - categorical_accuracy: 0.7662 - val_loss: 1.2824 - val_categorical_accuracy: 0.5700 - lr: 0.0010\n",
      "Epoch 26/50\n",
      "67/67 [==============================] - ETA: 0s - loss: 0.6291 - categorical_accuracy: 0.7761\n",
      "Epoch 00026: saving model to model_init_2024-09-2811_40_20.930409/model-00026-0.62909-0.77612-2.51224-0.56000.h5\n",
      "67/67 [==============================] - 38s 569ms/step - loss: 0.6291 - categorical_accuracy: 0.7761 - val_loss: 2.5122 - val_categorical_accuracy: 0.5600 - lr: 0.0010\n",
      "Epoch 27/50\n",
      "67/67 [==============================] - ETA: 0s - loss: 0.7019 - categorical_accuracy: 0.7512\n",
      "Epoch 00027: saving model to model_init_2024-09-2811_40_20.930409/model-00027-0.70186-0.75124-1.39567-0.60000.h5\n",
      "67/67 [==============================] - 39s 580ms/step - loss: 0.7019 - categorical_accuracy: 0.7512 - val_loss: 1.3957 - val_categorical_accuracy: 0.6000 - lr: 0.0010\n",
      "Epoch 28/50\n",
      "67/67 [==============================] - ETA: 0s - loss: 0.6139 - categorical_accuracy: 0.7662\n",
      "Epoch 00028: saving model to model_init_2024-09-2811_40_20.930409/model-00028-0.61391-0.76617-1.49357-0.71000.h5\n",
      "67/67 [==============================] - 38s 570ms/step - loss: 0.6139 - categorical_accuracy: 0.7662 - val_loss: 1.4936 - val_categorical_accuracy: 0.7100 - lr: 0.0010\n",
      "Epoch 29/50\n",
      "67/67 [==============================] - ETA: 0s - loss: 0.5134 - categorical_accuracy: 0.8308\n",
      "Epoch 00029: saving model to model_init_2024-09-2811_40_20.930409/model-00029-0.51344-0.83085-1.54337-0.60000.h5\n",
      "67/67 [==============================] - 38s 570ms/step - loss: 0.5134 - categorical_accuracy: 0.8308 - val_loss: 1.5434 - val_categorical_accuracy: 0.6000 - lr: 0.0010\n",
      "Epoch 30/50\n",
      "67/67 [==============================] - ETA: 0s - loss: 0.5874 - categorical_accuracy: 0.7861\n",
      "Epoch 00030: saving model to model_init_2024-09-2811_40_20.930409/model-00030-0.58744-0.78607-1.83273-0.65000.h5\n",
      "\n",
      "Epoch 00030: ReduceLROnPlateau reducing learning rate to 0.00020000000949949026.\n",
      "67/67 [==============================] - 39s 579ms/step - loss: 0.5874 - categorical_accuracy: 0.7861 - val_loss: 1.8327 - val_categorical_accuracy: 0.6500 - lr: 0.0010\n",
      "Epoch 31/50\n",
      "67/67 [==============================] - ETA: 0s - loss: 0.5619 - categorical_accuracy: 0.7960\n",
      "Epoch 00031: saving model to model_init_2024-09-2811_40_20.930409/model-00031-0.56188-0.79602-1.77036-0.65000.h5\n",
      "67/67 [==============================] - 39s 578ms/step - loss: 0.5619 - categorical_accuracy: 0.7960 - val_loss: 1.7704 - val_categorical_accuracy: 0.6500 - lr: 2.0000e-04\n",
      "Epoch 32/50\n",
      "67/67 [==============================] - ETA: 0s - loss: 0.4130 - categorical_accuracy: 0.8706\n",
      "Epoch 00032: saving model to model_init_2024-09-2811_40_20.930409/model-00032-0.41299-0.87065-1.51840-0.68000.h5\n",
      "67/67 [==============================] - 38s 574ms/step - loss: 0.4130 - categorical_accuracy: 0.8706 - val_loss: 1.5184 - val_categorical_accuracy: 0.6800 - lr: 2.0000e-04\n",
      "Epoch 33/50\n",
      "67/67 [==============================] - ETA: 0s - loss: 0.3770 - categorical_accuracy: 0.8806\n",
      "Epoch 00033: saving model to model_init_2024-09-2811_40_20.930409/model-00033-0.37700-0.88060-1.32206-0.72000.h5\n",
      "67/67 [==============================] - 38s 568ms/step - loss: 0.3770 - categorical_accuracy: 0.8806 - val_loss: 1.3221 - val_categorical_accuracy: 0.7200 - lr: 2.0000e-04\n",
      "Epoch 34/50\n",
      "67/67 [==============================] - ETA: 0s - loss: 0.3597 - categorical_accuracy: 0.8657\n",
      "Epoch 00034: saving model to model_init_2024-09-2811_40_20.930409/model-00034-0.35968-0.86567-1.07568-0.76000.h5\n",
      "67/67 [==============================] - 39s 579ms/step - loss: 0.3597 - categorical_accuracy: 0.8657 - val_loss: 1.0757 - val_categorical_accuracy: 0.7600 - lr: 2.0000e-04\n",
      "Epoch 35/50\n",
      "67/67 [==============================] - ETA: 0s - loss: 0.2602 - categorical_accuracy: 0.9104\n",
      "Epoch 00035: saving model to model_init_2024-09-2811_40_20.930409/model-00035-0.26021-0.91045-0.99613-0.71000.h5\n",
      "67/67 [==============================] - 39s 580ms/step - loss: 0.2602 - categorical_accuracy: 0.9104 - val_loss: 0.9961 - val_categorical_accuracy: 0.7100 - lr: 2.0000e-04\n",
      "Epoch 36/50\n",
      "67/67 [==============================] - ETA: 0s - loss: 0.3515 - categorical_accuracy: 0.8657\n",
      "Epoch 00036: saving model to model_init_2024-09-2811_40_20.930409/model-00036-0.35148-0.86567-1.03770-0.75000.h5\n",
      "67/67 [==============================] - 38s 573ms/step - loss: 0.3515 - categorical_accuracy: 0.8657 - val_loss: 1.0377 - val_categorical_accuracy: 0.7500 - lr: 2.0000e-04\n",
      "Epoch 37/50\n",
      "67/67 [==============================] - ETA: 0s - loss: 0.3185 - categorical_accuracy: 0.8955\n",
      "Epoch 00037: saving model to model_init_2024-09-2811_40_20.930409/model-00037-0.31848-0.89552-1.16536-0.67000.h5\n",
      "67/67 [==============================] - 38s 575ms/step - loss: 0.3185 - categorical_accuracy: 0.8955 - val_loss: 1.1654 - val_categorical_accuracy: 0.6700 - lr: 2.0000e-04\n",
      "Epoch 38/50\n",
      "67/67 [==============================] - ETA: 0s - loss: 0.2557 - categorical_accuracy: 0.9204\n",
      "Epoch 00038: saving model to model_init_2024-09-2811_40_20.930409/model-00038-0.25566-0.92040-1.32854-0.73000.h5\n",
      "67/67 [==============================] - 38s 573ms/step - loss: 0.2557 - categorical_accuracy: 0.9204 - val_loss: 1.3285 - val_categorical_accuracy: 0.7300 - lr: 2.0000e-04\n",
      "Epoch 39/50\n",
      "67/67 [==============================] - ETA: 0s - loss: 0.2884 - categorical_accuracy: 0.9204\n",
      "Epoch 00039: saving model to model_init_2024-09-2811_40_20.930409/model-00039-0.28839-0.92040-1.14081-0.73000.h5\n",
      "67/67 [==============================] - 38s 573ms/step - loss: 0.2884 - categorical_accuracy: 0.9204 - val_loss: 1.1408 - val_categorical_accuracy: 0.7300 - lr: 2.0000e-04\n",
      "Epoch 40/50\n",
      "67/67 [==============================] - ETA: 0s - loss: 0.3297 - categorical_accuracy: 0.8806\n",
      "Epoch 00040: saving model to model_init_2024-09-2811_40_20.930409/model-00040-0.32968-0.88060-1.09479-0.73000.h5\n",
      "\n",
      "Epoch 00040: ReduceLROnPlateau reducing learning rate to 4.0000001899898055e-05.\n",
      "67/67 [==============================] - 39s 578ms/step - loss: 0.3297 - categorical_accuracy: 0.8806 - val_loss: 1.0948 - val_categorical_accuracy: 0.7300 - lr: 2.0000e-04\n",
      "Epoch 41/50\n",
      "67/67 [==============================] - ETA: 0s - loss: 0.2688 - categorical_accuracy: 0.9005\n",
      "Epoch 00041: saving model to model_init_2024-09-2811_40_20.930409/model-00041-0.26876-0.90050-1.22891-0.71000.h5\n",
      "67/67 [==============================] - 39s 580ms/step - loss: 0.2688 - categorical_accuracy: 0.9005 - val_loss: 1.2289 - val_categorical_accuracy: 0.7100 - lr: 4.0000e-05\n",
      "Epoch 42/50\n",
      "67/67 [==============================] - ETA: 0s - loss: 0.2224 - categorical_accuracy: 0.9453\n",
      "Epoch 00042: saving model to model_init_2024-09-2811_40_20.930409/model-00042-0.22242-0.94527-1.13460-0.70000.h5\n",
      "67/67 [==============================] - 39s 578ms/step - loss: 0.2224 - categorical_accuracy: 0.9453 - val_loss: 1.1346 - val_categorical_accuracy: 0.7000 - lr: 4.0000e-05\n",
      "Epoch 43/50\n",
      "67/67 [==============================] - ETA: 0s - loss: 0.3229 - categorical_accuracy: 0.8856\n",
      "Epoch 00043: saving model to model_init_2024-09-2811_40_20.930409/model-00043-0.32295-0.88557-1.17080-0.72000.h5\n",
      "67/67 [==============================] - 38s 566ms/step - loss: 0.3229 - categorical_accuracy: 0.8856 - val_loss: 1.1708 - val_categorical_accuracy: 0.7200 - lr: 4.0000e-05\n",
      "Epoch 44/50\n",
      "67/67 [==============================] - ETA: 0s - loss: 0.2926 - categorical_accuracy: 0.9005\n",
      "Epoch 00044: saving model to model_init_2024-09-2811_40_20.930409/model-00044-0.29262-0.90050-1.00696-0.73000.h5\n",
      "67/67 [==============================] - 39s 579ms/step - loss: 0.2926 - categorical_accuracy: 0.9005 - val_loss: 1.0070 - val_categorical_accuracy: 0.7300 - lr: 4.0000e-05\n",
      "Epoch 45/50\n",
      "67/67 [==============================] - ETA: 0s - loss: 0.3006 - categorical_accuracy: 0.8955\n",
      "Epoch 00045: saving model to model_init_2024-09-2811_40_20.930409/model-00045-0.30058-0.89552-1.24753-0.70000.h5\n",
      "\n",
      "Epoch 00045: ReduceLROnPlateau reducing learning rate to 8.000000525498762e-06.\n",
      "67/67 [==============================] - 38s 575ms/step - loss: 0.3006 - categorical_accuracy: 0.8955 - val_loss: 1.2475 - val_categorical_accuracy: 0.7000 - lr: 4.0000e-05\n",
      "Epoch 46/50\n",
      "67/67 [==============================] - ETA: 0s - loss: 0.1803 - categorical_accuracy: 0.9552\n",
      "Epoch 00046: saving model to model_init_2024-09-2811_40_20.930409/model-00046-0.18026-0.95522-1.01521-0.69000.h5\n",
      "67/67 [==============================] - 39s 586ms/step - loss: 0.1803 - categorical_accuracy: 0.9552 - val_loss: 1.0152 - val_categorical_accuracy: 0.6900 - lr: 8.0000e-06\n",
      "Epoch 47/50\n",
      "67/67 [==============================] - ETA: 0s - loss: 0.2721 - categorical_accuracy: 0.9005\n",
      "Epoch 00047: saving model to model_init_2024-09-2811_40_20.930409/model-00047-0.27205-0.90050-0.93587-0.75000.h5\n",
      "67/67 [==============================] - 39s 580ms/step - loss: 0.2721 - categorical_accuracy: 0.9005 - val_loss: 0.9359 - val_categorical_accuracy: 0.7500 - lr: 8.0000e-06\n",
      "Epoch 48/50\n",
      "67/67 [==============================] - ETA: 0s - loss: 0.2514 - categorical_accuracy: 0.9104\n",
      "Epoch 00048: saving model to model_init_2024-09-2811_40_20.930409/model-00048-0.25137-0.91045-1.23544-0.69000.h5\n",
      "67/67 [==============================] - 38s 573ms/step - loss: 0.2514 - categorical_accuracy: 0.9104 - val_loss: 1.2354 - val_categorical_accuracy: 0.6900 - lr: 8.0000e-06\n",
      "Epoch 49/50\n",
      "67/67 [==============================] - ETA: 0s - loss: 0.2326 - categorical_accuracy: 0.9204\n",
      "Epoch 00049: saving model to model_init_2024-09-2811_40_20.930409/model-00049-0.23260-0.92040-1.06295-0.67000.h5\n",
      "67/67 [==============================] - 38s 573ms/step - loss: 0.2326 - categorical_accuracy: 0.9204 - val_loss: 1.0630 - val_categorical_accuracy: 0.6700 - lr: 8.0000e-06\n",
      "Epoch 50/50\n",
      "67/67 [==============================] - ETA: 0s - loss: 0.2154 - categorical_accuracy: 0.9453\n",
      "Epoch 00050: saving model to model_init_2024-09-2811_40_20.930409/model-00050-0.21543-0.94527-1.00590-0.71000.h5\n",
      "67/67 [==============================] - 39s 579ms/step - loss: 0.2154 - categorical_accuracy: 0.9453 - val_loss: 1.0059 - val_categorical_accuracy: 0.7100 - lr: 8.0000e-06\n"
     ]
    }
   ],
   "source": [
    "history = model.fit(train_generator, steps_per_epoch=steps_per_epoch, epochs=num_epochs, verbose=1, \n",
    "                    callbacks=callbacks_list, validation_data=val_generator, \n",
    "                    validation_steps=validation_steps, class_weight=None, workers=1, initial_epoch=0, max_queue_size=3000)"
   ]
  },
  {
   "cell_type": "code",
   "execution_count": 43,
   "metadata": {},
   "outputs": [
    {
     "data": {
      "text/plain": [
       "<Figure size 720x720 with 0 Axes>"
      ]
     },
     "metadata": {},
     "output_type": "display_data"
    },
    {
     "data": {
      "image/png": "[encoded data removed]",
      "text/plain": [
       "<Figure size 576x576 with 2 Axes>"
      ]
     },
     "metadata": {
      "needs_background": "light"
     },
     "output_type": "display_data"
    }
   ],
   "source": [
    "plt.figure(figsize = (10,10))\n",
    "\n",
    "acc = history.history['categorical_accuracy']\n",
    "val_acc = history.history['val_categorical_accuracy']\n",
    "\n",
    "loss = history.history['loss']\n",
    "val_loss = history.history['val_loss']\n",
    "\n",
    "epochs_range = range(num_epochs)\n",
    "\n",
    "plt.figure(figsize=(8, 8))\n",
    "plt.subplot(1, 2, 1)\n",
    "plt.plot(epochs_range, acc, label='Training Accuracy')\n",
    "plt.plot(epochs_range, val_acc, label='Validation Accuracy')\n",
    "plt.legend(loc='lower right')\n",
    "plt.title('Training and Validation Accuracy')\n",
    "\n",
    "plt.subplot(1, 2, 2)\n",
    "plt.plot(epochs_range, loss, label='Training Loss')\n",
    "plt.plot(epochs_range, val_loss, label='Validation Loss')\n",
    "plt.legend(loc='upper right')\n",
    "plt.title('Training and Validation Loss')\n",
    "plt.show()"
   ]
  }
 ],
 "metadata": {
  "kernelspec": {
   "display_name": "Python 3 (ipykernel)",
   "language": "python",
   "name": "python3"
  },
  "language_info": {
   "codemirror_mode": {
    "name": "ipython",
    "version": 3
   },
   "file_extension": ".py",
   "mimetype": "text/x-python",
   "name": "python",
   "nbconvert_exporter": "python",
   "pygments_lexer": "ipython3",
   "version": "3.8.10"
  }
 },
 "nbformat": 4,
 "nbformat_minor": 4
}
