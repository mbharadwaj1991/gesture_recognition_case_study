{
 "cells": [
  {
   "cell_type": "markdown",
   "metadata": {},
   "source": [
    "# Gesture Recognition\n",
    "In this group project, you are going to build a 3D Conv model that will be able to predict the 5 gestures correctly. Please import the following libraries to get started. Once you have completed the code you can download the notebook for making a submission."
   ]
  },
  {
   "cell_type": "code",
   "execution_count": 40,
   "metadata": {},
   "outputs": [],
   "source": [
    "import numpy as np\n",
    "import os\n",
    "from imageio import imread\n",
    "from skimage.transform import resize\n",
    "import datetime\n",
    "import os"
   ]
  },
  {
   "cell_type": "code",
   "execution_count": 41,
   "metadata": {},
   "outputs": [
    {
     "name": "stdout",
     "output_type": "stream",
     "text": [
      "Sat Sep 28 09:46:58 2024       \n",
      "+---------------------------------------------------------------------------------------+\n",
      "| NVIDIA-SMI 535.104.05             Driver Version: 535.104.05   CUDA Version: 12.2     |\n",
      "|-----------------------------------------+----------------------+----------------------+\n",
      "| GPU  Name                 Persistence-M | Bus-Id        Disp.A | Volatile Uncorr. ECC |\n",
      "| Fan  Temp   Perf          Pwr:Usage/Cap |         Memory-Usage | GPU-Util  Compute M. |\n",
      "|                                         |                      |               MIG M. |\n",
      "|=========================================+======================+======================|\n",
      "|   0  Quadro RTX 5000                Off | 00000000:1B:00.0 Off |                  Off |\n",
      "| 33%   31C    P8              10W / 230W |   1278MiB / 16384MiB |      0%      Default |\n",
      "|                                         |                      |                  N/A |\n",
      "+-----------------------------------------+----------------------+----------------------+\n",
      "                                                                                         \n",
      "+---------------------------------------------------------------------------------------+\n",
      "| Processes:                                                                            |\n",
      "|  GPU   GI   CI        PID   Type   Process name                            GPU Memory |\n",
      "|        ID   ID                                                             Usage      |\n",
      "|=======================================================================================|\n",
      "+---------------------------------------------------------------------------------------+\n"
     ]
    }
   ],
   "source": [
    "!nvidia-smi"
   ]
  },
  {
   "cell_type": "markdown",
   "metadata": {},
   "source": [
    "We set the random seed so that the results don't vary drastically."
   ]
  },
  {
   "cell_type": "code",
   "execution_count": 65,
   "metadata": {},
   "outputs": [],
   "source": [
    "np.random.seed(30)\n",
    "import random as rn\n",
    "rn.seed(30)\n",
    "from tensorflow import keras\n",
    "import cv2\n",
    "import tensorflow as tf\n",
    "tf.random.set_seed(30)\n",
    "import matplotlib.pyplot as plt\n",
    "%matplotlib inline"
   ]
  },
  {
   "cell_type": "markdown",
   "metadata": {},
   "source": [
    "In this block, you read the folder names for training and validation. You also set the `batch_size` here. Note that you set the batch size in such a way that you are able to use the GPU in full capacity. You keep increasing the batch size until the machine throws an error."
   ]
  },
  {
   "cell_type": "markdown",
   "metadata": {},
   "source": [
    "**data path: /home/datasets/Project_data**"
   ]
  },
  {
   "cell_type": "code",
   "execution_count": 43,
   "metadata": {},
   "outputs": [],
   "source": [
    "project_folder = '/home/datasets/Project_data'"
   ]
  },
  {
   "cell_type": "code",
   "execution_count": 44,
   "metadata": {},
   "outputs": [],
   "source": [
    "train_doc = np.random.permutation(open('/home/datasets/Project_data/train.csv').readlines())\n",
    "val_doc = np.random.permutation(open('/home/datasets/Project_data/val.csv').readlines())\n",
    "batch_size = 10 #experiment with the batch size"
   ]
  },
  {
   "cell_type": "markdown",
   "metadata": {},
   "source": [
    "## Configration"
   ]
  },
  {
   "cell_type": "code",
   "execution_count": 45,
   "metadata": {},
   "outputs": [
    {
     "name": "stdout",
     "output_type": "stream",
     "text": [
      "# training sequences = 663\n",
      "# validation sequences = 100\n",
      "# epochs = 50\n"
     ]
    }
   ],
   "source": [
    "image_count = 30 # number of images to be used for each video\n",
    "image_height=160\n",
    "image_width=160\n",
    "channels=3\n",
    "num_classes=5 # number of classes\n",
    "input_shape=(image_count,image_width,image_height,channels)\n",
    "\n",
    "curr_dt_time = datetime.datetime.now()\n",
    "train_path = f'{project_folder}/train'\n",
    "val_path = f'{project_folder}/val'\n",
    "num_train_sequences = len(train_doc)\n",
    "print('# training sequences =', num_train_sequences)\n",
    "num_val_sequences = len(val_doc)\n",
    "print('# validation sequences =', num_val_sequences)\n",
    "num_epochs = 50 # choose the number of epochs  \n",
    "print ('# epochs =', num_epochs)"
   ]
  },
  {
   "cell_type": "markdown",
   "metadata": {},
   "source": [
    "## Generator\n",
    "This is one of the most important part of the code. The overall structure of the generator has been given. In the generator, you are going to preprocess the images as you have images of 2 different dimensions as well as create a batch of video frames. You have to experiment with `img_idx`, `y`,`z` and normalization such that you get high accuracy."
   ]
  },
  {
   "cell_type": "code",
   "execution_count": 46,
   "metadata": {},
   "outputs": [],
   "source": [
    "def generator(source_path, folder_list, batch_size):\n",
    "    print( 'Source path = ', source_path, '; batch size =', batch_size)\n",
    "    img_idx =[x for x in range(0,image_count)]\n",
    "    while True:\n",
    "        t = np.random.permutation(folder_list)\n",
    "        num_batches = len(t)//batch_size    # calculate the number of batches\n",
    "        for batch in range(num_batches): # we iterate over the number of batches\n",
    "            batch_data = np.zeros((batch_size,image_count,image_width,image_height,channels)) # x is the number of images you use for each video, (y,z) is the final size of the input images and 3 is the number of channels RGB\n",
    "            batch_labels = np.zeros((batch_size,num_classes)) # batch_labels is the one hot representation of the output\n",
    "            for folder in range(batch_size): # iterate over the batch_size\n",
    "                imgs = os.listdir(source_path+'/'+ t[folder + (batch*batch_size)].split(';')[0]) # read all the images in the folder\n",
    "                for idx,item in enumerate(img_idx): #  Iterate iver the frames/images of a folder to read them in\n",
    "                    image = imread(source_path+'/'+ t[folder + (batch*batch_size)].strip().split(';')[0]+'/'+imgs[item]).astype(np.float32)\n",
    "                    \n",
    "                    #crop the images and resize them. Note that the images are of 2 different shape \n",
    "                    #and the conv3D will throw error if the inputs in a batch have different shapes\n",
    "                    \n",
    "                    temp = cv2.resize(image,(image_width,image_height))\n",
    "                    temp = temp/255 #Normalize data\n",
    "                    \n",
    "                    batch_data[folder,idx,:,:,0] = (temp[:,:,0])  #normalise and feed in the image\n",
    "                    batch_data[folder,idx,:,:,1] = (temp[:,:,1])  #normalise and feed in the image\n",
    "                    batch_data[folder,idx,:,:,2] = (temp[:,:,2])  #normalise and feed in the image\n",
    "                    \n",
    "                batch_labels[folder, int(t[folder + (batch*batch_size)].strip().split(';')[2])] = 1\n",
    "            yield batch_data, batch_labels #you yield the batch_data and the batch_labels, remember what does yield do\n",
    "\n",
    "        \n",
    "        # write the code for the remaining data points which are left after full batches\n",
    "        if (len(folder_list) != batch_size*num_batches):\n",
    "            print(\"Batch: \",num_batches+1,\"Index:\", batch_size)\n",
    "            batch_size = len(folder_list) - (batch_size*num_batches)\n",
    "            batch_data = np.zeros((batch_size,image_count,image_width,image_height,channels)) # x is the number of images you use for each video, (y,z) is the final size of the input images and 3 is the number of channels RGB\n",
    "            batch_labels = np.zeros((batch_size,num_classes)) # batch_labels is the one hot representation of the output\n",
    "            for folder in range(batch_size): # iterate over the batch_size\n",
    "                imgs = os.listdir(source_path+'/'+ t[folder + (batch*batch_size)].split(';')[0]) # read all the images in the folder\n",
    "                for idx,item in enumerate(img_idx): #  Iterate iver the frames/images of a folder to read them in\n",
    "                    image = imread(source_path+'/'+ t[folder + (batch*batch_size)].strip().split(';')[0]+'/'+imgs[item]).astype(np.float32)\n",
    "                    \n",
    "                    #crop the images and resize them. Note that the images are of 2 different shape \n",
    "                    #and the conv3D will throw error if the inputs in a batch have different shapes\n",
    "                    temp = cv2.resize(image,(image_width,image_height))\n",
    "                    temp = temp/255 #Normalize data\n",
    "                    \n",
    "                    batch_data[folder,idx,:,:,0] = (temp[:,:,0])\n",
    "                    batch_data[folder,idx,:,:,1] = (temp[:,:,1])\n",
    "                    batch_data[folder,idx,:,:,2] = (temp[:,:,2])\n",
    "                   \n",
    "                batch_labels[folder, int(t[folder + (batch*batch_size)].strip().split(';')[2])] = 1\n",
    "            yield batch_data, batch_labels"
   ]
  },
  {
   "cell_type": "markdown",
   "metadata": {},
   "source": [
    "Note here that a video is represented above in the generator as (number of images, height, width, number of channels). Take this into consideration while creating the model architecture."
   ]
  },
  {
   "cell_type": "markdown",
   "metadata": {},
   "source": [
    "## Model\n",
    "Here you make the model using different functionalities that Keras provides. Remember to use `Conv3D` and `MaxPooling3D` and not `Conv2D` and `Maxpooling2D` for a 3D convolution model. You would want to use `TimeDistributed` while building a Conv2D + RNN model. Also remember that the last layer is the softmax. Design the network in such a way that the model is able to give good accuracy on the least number of parameters so that it can fit in the memory of the webcam."
   ]
  },
  {
   "cell_type": "code",
   "execution_count": 47,
   "metadata": {},
   "outputs": [],
   "source": [
    "from tensorflow.keras.models import Sequential\n",
    "from tensorflow.keras.layers import Dense, GRU, Dropout, Flatten, BatchNormalization, Activation, Conv3D, MaxPooling3D\n",
    "from tensorflow.keras.callbacks import ModelCheckpoint, ReduceLROnPlateau\n",
    "from tensorflow.keras import optimizers"
   ]
  },
  {
   "cell_type": "code",
   "execution_count": 48,
   "metadata": {},
   "outputs": [],
   "source": [
    "from tensorflow.keras.applications import MobileNet"
   ]
  },
  {
   "cell_type": "markdown",
   "metadata": {},
   "source": [
    "## First / Second Experiment"
   ]
  },
  {
   "cell_type": "code",
   "execution_count": 73,
   "metadata": {},
   "outputs": [],
   "source": [
    "# model = Sequential()\n",
    "# model.add(Conv3D(16, (3, 3, 3), padding='same',\n",
    "#           input_shape=input_shape))\n",
    "# model.add(Activation('relu'))\n",
    "# model.add(MaxPooling3D(pool_size=(2, 2, 2)))\n",
    "\n",
    "# model.add(Conv3D(32, (2, 2, 2), padding='same'))\n",
    "# model.add(Activation('relu'))\n",
    "# model.add(MaxPooling3D(pool_size=(2, 2, 2)))\n",
    "\n",
    "# model.add(Conv3D(64, (2, 2, 2), padding='same'))\n",
    "# model.add(Activation('relu'))\n",
    "# model.add(MaxPooling3D(pool_size=(2, 2, 2)))\n",
    "\n",
    "# model.add(Conv3D(128, (2, 2, 2), padding='same'))\n",
    "# model.add(Activation('relu'))\n",
    "# model.add(MaxPooling3D(pool_size=(2, 2, 2)))\n",
    "\n",
    "# model.add(Flatten())\n",
    "# model.add(Dense(128,activation='relu'))\n",
    "# model.add(Dense(64,activation='relu'))\n",
    "\n",
    "# model.add(Dense(num_classes,activation='softmax'))\n"
   ]
  },
  {
   "cell_type": "code",
   "execution_count": null,
   "metadata": {},
   "outputs": [],
   "source": [
    "## batch size = 10"
   ]
  },
  {
   "cell_type": "code",
   "execution_count": 56,
   "metadata": {},
   "outputs": [],
   "source": [
    "# from tensorflow.keras.applications import ResNet152V2\n",
    "# # EfficientNetB7 with rnn gru units\n",
    "# model = Sequential()\n",
    "# model.add(TimeDistributed(ResNet152V2(weights='imagenet', include_top=False),input_shape=input_shape, name='ResNet152V2', trainable=False))\n",
    "# model.add(TimeDistributed(GlobalAveragePooling2D()))\n",
    "# model.add(TimeDistributed(Dense(64, activation='relu')))\n",
    "# model.add(Dense(256, activation='relu'))\n",
    "# model.add(BatchNormalization())\n",
    "# model.add(GRU(128, return_sequences=True))\n",
    "# model.add(BatchNormalization())\n",
    "# model.add(Flatten())\n",
    "# model.add(Dense(256, activation='relu'))\n",
    "# model.add(Dense(num_classes, activation='softmax'))"
   ]
  },
  {
   "cell_type": "code",
   "execution_count": null,
   "metadata": {},
   "outputs": [],
   "source": [
    "## batch size = 32"
   ]
  },
  {
   "cell_type": "code",
   "execution_count": null,
   "metadata": {},
   "outputs": [],
   "source": [
    "from tensorflow.keras.applications import ResNet152V2\n",
    "# EfficientNetB7 with rnn gru units\n",
    "model = Sequential()\n",
    "model.add(TimeDistributed(ResNet152V2(weights='imagenet', include_top=False),input_shape=input_shape, name='ResNet152V2', trainable=False))\n",
    "model.add(TimeDistributed(GlobalAveragePooling2D()))\n",
    "model.add(TimeDistributed(Dense(64, activation='relu')))\n",
    "model.add(Dense(256, activation='relu'))\n",
    "model.add(BatchNormalization())\n",
    "model.add(GRU(128, return_sequences=True))\n",
    "model.add(BatchNormalization())\n",
    "model.add(Flatten())\n",
    "model.add(Dense(256, activation='relu'))\n",
    "model.add(Dense(num_classes, activation='softmax'))"
   ]
  },
  {
   "cell_type": "markdown",
   "metadata": {},
   "source": [
    "Now that you have written the model, the next step is to `compile` the model. When you print the `summary` of the model, you'll see the total number of parameters you have to train."
   ]
  },
  {
   "cell_type": "code",
   "execution_count": 57,
   "metadata": {
    "scrolled": true
   },
   "outputs": [
    {
     "name": "stdout",
     "output_type": "stream",
     "text": [
      "Model: \"sequential_4\"\n",
      "_________________________________________________________________\n",
      " Layer (type)                Output Shape              Param #   \n",
      "=================================================================\n",
      " ResNet152V2 (TimeDistribute  (None, 30, 5, 5, 2048)   58331648  \n",
      " d)                                                              \n",
      "                                                                 \n",
      " time_distributed_6 (TimeDis  (None, 30, 2048)         0         \n",
      " tributed)                                                       \n",
      "                                                                 \n",
      " time_distributed_7 (TimeDis  (None, 30, 64)           131136    \n",
      " tributed)                                                       \n",
      "                                                                 \n",
      " dense_16 (Dense)            (None, 30, 256)           16640     \n",
      "                                                                 \n",
      " batch_normalization_6 (Batc  (None, 30, 256)          1024      \n",
      " hNormalization)                                                 \n",
      "                                                                 \n",
      " gru_3 (GRU)                 (None, 30, 128)           148224    \n",
      "                                                                 \n",
      " batch_normalization_7 (Batc  (None, 30, 128)          512       \n",
      " hNormalization)                                                 \n",
      "                                                                 \n",
      " flatten_4 (Flatten)         (None, 3840)              0         \n",
      "                                                                 \n",
      " dense_17 (Dense)            (None, 256)               983296    \n",
      "                                                                 \n",
      " dense_18 (Dense)            (None, 5)                 1285      \n",
      "                                                                 \n",
      "=================================================================\n",
      "Total params: 59,613,765\n",
      "Trainable params: 1,281,349\n",
      "Non-trainable params: 58,332,416\n",
      "_________________________________________________________________\n",
      "None\n"
     ]
    }
   ],
   "source": [
    "optimiser = optimizers.Adam() #write your optimizer\n",
    "model.compile(optimizer=optimiser, loss='categorical_crossentropy', metrics=['categorical_accuracy'])\n",
    "print (model.summary())"
   ]
  },
  {
   "cell_type": "markdown",
   "metadata": {},
   "source": [
    "Let us create the `train_generator` and the `val_generator` which will be used in `.fit_generator`."
   ]
  },
  {
   "cell_type": "code",
   "execution_count": 60,
   "metadata": {},
   "outputs": [],
   "source": [
    "train_generator = generator(train_path, train_doc, batch_size)\n",
    "val_generator = generator(val_path, val_doc, batch_size)"
   ]
  },
  {
   "cell_type": "code",
   "execution_count": 61,
   "metadata": {},
   "outputs": [
    {
     "name": "stdout",
     "output_type": "stream",
     "text": [
      "WARNING:tensorflow:`period` argument is deprecated. Please use `save_freq` to specify the frequency in number of batches seen.\n"
     ]
    }
   ],
   "source": [
    "model_name = 'model_init' + '_' + str(curr_dt_time).replace(' ','').replace(':','_') + '/'\n",
    "    \n",
    "if not os.path.exists(model_name):\n",
    "    os.mkdir(model_name)\n",
    "        \n",
    "filepath = model_name + 'model-{epoch:05d}-{loss:.5f}-{categorical_accuracy:.5f}-{val_loss:.5f}-{val_categorical_accuracy:.5f}.h5'\n",
    "\n",
    "checkpoint = ModelCheckpoint(filepath, monitor='val_loss', verbose=1, save_best_only=False, save_weights_only=False, mode='auto', period=1)\n",
    "\n",
    "LR = ReduceLROnPlateau(monitor='val_loss', factor=0.2, patience=5, verbose=1, mode='auto')\n",
    "callbacks_list = [checkpoint, LR]"
   ]
  },
  {
   "cell_type": "markdown",
   "metadata": {},
   "source": [
    "The `steps_per_epoch` and `validation_steps` are used by `fit` method to decide the number of next() calls it need to make."
   ]
  },
  {
   "cell_type": "code",
   "execution_count": 62,
   "metadata": {},
   "outputs": [],
   "source": [
    "if (num_train_sequences%batch_size) == 0:\n",
    "    steps_per_epoch = int(num_train_sequences/batch_size)\n",
    "else:\n",
    "    steps_per_epoch = (num_train_sequences//batch_size) + 1\n",
    "\n",
    "if (num_val_sequences%batch_size) == 0:\n",
    "    validation_steps = int(num_val_sequences/batch_size)\n",
    "else:\n",
    "    validation_steps = (num_val_sequences//batch_size) + 1"
   ]
  },
  {
   "cell_type": "markdown",
   "metadata": {},
   "source": [
    "Let us now fit the model. This will start training the model and with the help of the checkpoints, you'll be able to save the model at the end of each epoch."
   ]
  },
  {
   "cell_type": "code",
   "execution_count": 63,
   "metadata": {},
   "outputs": [
    {
     "name": "stdout",
     "output_type": "stream",
     "text": [
      "Source path =  /home/datasets/Project_data/train ; batch size = 10\n",
      "Epoch 1/50\n",
      "65/67 [============================>.] - ETA: 2s - loss: 2.8029 - categorical_accuracy: 0.4138Batch:  67 Index: 10\n",
      "67/67 [==============================] - ETA: 0s - loss: 2.7754 - categorical_accuracy: 0.4163Source path =  /home/datasets/Project_data/val ; batch size = 10\n",
      "\n",
      "Epoch 00001: saving model to model_init_2024-09-2809_47_11.576041/model-00001-2.77544-0.41629-1.50861-0.47000.h5\n"
     ]
    },
    {
     "name": "stderr",
     "output_type": "stream",
     "text": [
      "/usr/local/lib/python3.8/dist-packages/keras/engine/functional.py:1410: CustomMaskWarning: Custom mask layers require a config and must override get_config. When loading, the custom mask layer must be passed to the custom_objects argument.\n",
      "  layer_config = serialize_layer_fn(layer)\n"
     ]
    },
    {
     "name": "stdout",
     "output_type": "stream",
     "text": [
      "67/67 [==============================] - 129s 2s/step - loss: 2.7754 - categorical_accuracy: 0.4163 - val_loss: 1.5086 - val_categorical_accuracy: 0.4700 - lr: 0.0010\n",
      "Epoch 2/50\n",
      "67/67 [==============================] - ETA: 0s - loss: 3.8319 - categorical_accuracy: 0.4179\n",
      "Epoch 00002: saving model to model_init_2024-09-2809_47_11.576041/model-00002-3.83191-0.41791-5.05066-0.32000.h5\n",
      "67/67 [==============================] - 39s 588ms/step - loss: 3.8319 - categorical_accuracy: 0.4179 - val_loss: 5.0507 - val_categorical_accuracy: 0.3200 - lr: 0.0010\n",
      "Epoch 3/50\n",
      "67/67 [==============================] - ETA: 0s - loss: 4.6834 - categorical_accuracy: 0.3980\n",
      "Epoch 00003: saving model to model_init_2024-09-2809_47_11.576041/model-00003-4.68336-0.39801-2.84829-0.49000.h5\n",
      "67/67 [==============================] - 39s 584ms/step - loss: 4.6834 - categorical_accuracy: 0.3980 - val_loss: 2.8483 - val_categorical_accuracy: 0.4900 - lr: 0.0010\n",
      "Epoch 4/50\n",
      "67/67 [==============================] - ETA: 0s - loss: 4.1341 - categorical_accuracy: 0.3234\n",
      "Epoch 00004: saving model to model_init_2024-09-2809_47_11.576041/model-00004-4.13409-0.32338-3.20591-0.46000.h5\n",
      "67/67 [==============================] - 39s 587ms/step - loss: 4.1341 - categorical_accuracy: 0.3234 - val_loss: 3.2059 - val_categorical_accuracy: 0.4600 - lr: 0.0010\n",
      "Epoch 5/50\n",
      "67/67 [==============================] - ETA: 0s - loss: 2.3826 - categorical_accuracy: 0.4577\n",
      "Epoch 00005: saving model to model_init_2024-09-2809_47_11.576041/model-00005-2.38262-0.45771-2.44960-0.47000.h5\n",
      "67/67 [==============================] - 38s 571ms/step - loss: 2.3826 - categorical_accuracy: 0.4577 - val_loss: 2.4496 - val_categorical_accuracy: 0.4700 - lr: 0.0010\n",
      "Epoch 6/50\n",
      "67/67 [==============================] - ETA: 0s - loss: 1.8614 - categorical_accuracy: 0.5572\n",
      "Epoch 00006: saving model to model_init_2024-09-2809_47_11.576041/model-00006-1.86143-0.55721-1.92480-0.54000.h5\n",
      "\n",
      "Epoch 00006: ReduceLROnPlateau reducing learning rate to 0.00020000000949949026.\n",
      "67/67 [==============================] - 39s 587ms/step - loss: 1.8614 - categorical_accuracy: 0.5572 - val_loss: 1.9248 - val_categorical_accuracy: 0.5400 - lr: 0.0010\n",
      "Epoch 7/50\n",
      "67/67 [==============================] - ETA: 0s - loss: 1.2728 - categorical_accuracy: 0.6468\n",
      "Epoch 00007: saving model to model_init_2024-09-2809_47_11.576041/model-00007-1.27282-0.64677-1.75758-0.55000.h5\n",
      "67/67 [==============================] - 39s 580ms/step - loss: 1.2728 - categorical_accuracy: 0.6468 - val_loss: 1.7576 - val_categorical_accuracy: 0.5500 - lr: 2.0000e-04\n",
      "Epoch 8/50\n",
      "67/67 [==============================] - ETA: 0s - loss: 1.1106 - categorical_accuracy: 0.6269\n",
      "Epoch 00008: saving model to model_init_2024-09-2809_47_11.576041/model-00008-1.11062-0.62687-1.56852-0.52000.h5\n",
      "67/67 [==============================] - 38s 573ms/step - loss: 1.1106 - categorical_accuracy: 0.6269 - val_loss: 1.5685 - val_categorical_accuracy: 0.5200 - lr: 2.0000e-04\n",
      "Epoch 9/50\n",
      "67/67 [==============================] - ETA: 0s - loss: 0.9619 - categorical_accuracy: 0.6965\n",
      "Epoch 00009: saving model to model_init_2024-09-2809_47_11.576041/model-00009-0.96188-0.69652-1.32250-0.63000.h5\n",
      "67/67 [==============================] - 39s 579ms/step - loss: 0.9619 - categorical_accuracy: 0.6965 - val_loss: 1.3225 - val_categorical_accuracy: 0.6300 - lr: 2.0000e-04\n",
      "Epoch 10/50\n",
      "67/67 [==============================] - ETA: 0s - loss: 0.9794 - categorical_accuracy: 0.6766\n",
      "Epoch 00010: saving model to model_init_2024-09-2809_47_11.576041/model-00010-0.97942-0.67662-1.15576-0.63000.h5\n",
      "67/67 [==============================] - 38s 574ms/step - loss: 0.9794 - categorical_accuracy: 0.6766 - val_loss: 1.1558 - val_categorical_accuracy: 0.6300 - lr: 2.0000e-04\n",
      "Epoch 11/50\n",
      "67/67 [==============================] - ETA: 0s - loss: 1.0175 - categorical_accuracy: 0.6816\n",
      "Epoch 00011: saving model to model_init_2024-09-2809_47_11.576041/model-00011-1.01748-0.68159-1.35095-0.60000.h5\n",
      "67/67 [==============================] - 39s 579ms/step - loss: 1.0175 - categorical_accuracy: 0.6816 - val_loss: 1.3509 - val_categorical_accuracy: 0.6000 - lr: 2.0000e-04\n",
      "Epoch 12/50\n",
      "67/67 [==============================] - ETA: 0s - loss: 0.6817 - categorical_accuracy: 0.7612\n",
      "Epoch 00012: saving model to model_init_2024-09-2809_47_11.576041/model-00012-0.68167-0.76119-1.29645-0.63000.h5\n",
      "67/67 [==============================] - 38s 570ms/step - loss: 0.6817 - categorical_accuracy: 0.7612 - val_loss: 1.2964 - val_categorical_accuracy: 0.6300 - lr: 2.0000e-04\n",
      "Epoch 13/50\n",
      "67/67 [==============================] - ETA: 0s - loss: 1.0098 - categorical_accuracy: 0.6816\n",
      "Epoch 00013: saving model to model_init_2024-09-2809_47_11.576041/model-00013-1.00979-0.68159-1.08224-0.64000.h5\n",
      "67/67 [==============================] - 38s 576ms/step - loss: 1.0098 - categorical_accuracy: 0.6816 - val_loss: 1.0822 - val_categorical_accuracy: 0.6400 - lr: 2.0000e-04\n",
      "Epoch 14/50\n",
      "67/67 [==============================] - ETA: 0s - loss: 0.8646 - categorical_accuracy: 0.6866\n",
      "Epoch 00014: saving model to model_init_2024-09-2809_47_11.576041/model-00014-0.86461-0.68657-1.18548-0.65000.h5\n",
      "67/67 [==============================] - 39s 583ms/step - loss: 0.8646 - categorical_accuracy: 0.6866 - val_loss: 1.1855 - val_categorical_accuracy: 0.6500 - lr: 2.0000e-04\n",
      "Epoch 15/50\n",
      "67/67 [==============================] - ETA: 0s - loss: 0.7128 - categorical_accuracy: 0.7562\n",
      "Epoch 00015: saving model to model_init_2024-09-2809_47_11.576041/model-00015-0.71283-0.75622-1.18803-0.63000.h5\n",
      "67/67 [==============================] - 38s 568ms/step - loss: 0.7128 - categorical_accuracy: 0.7562 - val_loss: 1.1880 - val_categorical_accuracy: 0.6300 - lr: 2.0000e-04\n",
      "Epoch 16/50\n",
      "67/67 [==============================] - ETA: 0s - loss: 0.6550 - categorical_accuracy: 0.7960\n",
      "Epoch 00016: saving model to model_init_2024-09-2809_47_11.576041/model-00016-0.65498-0.79602-1.16095-0.65000.h5\n",
      "67/67 [==============================] - 38s 576ms/step - loss: 0.6550 - categorical_accuracy: 0.7960 - val_loss: 1.1609 - val_categorical_accuracy: 0.6500 - lr: 2.0000e-04\n",
      "Epoch 17/50\n",
      "67/67 [==============================] - ETA: 0s - loss: 0.7403 - categorical_accuracy: 0.7512\n",
      "Epoch 00017: saving model to model_init_2024-09-2809_47_11.576041/model-00017-0.74032-0.75124-1.39723-0.64000.h5\n",
      "67/67 [==============================] - 38s 570ms/step - loss: 0.7403 - categorical_accuracy: 0.7512 - val_loss: 1.3972 - val_categorical_accuracy: 0.6400 - lr: 2.0000e-04\n",
      "Epoch 18/50\n",
      "67/67 [==============================] - ETA: 0s - loss: 0.6822 - categorical_accuracy: 0.7861\n",
      "Epoch 00018: saving model to model_init_2024-09-2809_47_11.576041/model-00018-0.68222-0.78607-1.36661-0.61000.h5\n",
      "\n",
      "Epoch 00018: ReduceLROnPlateau reducing learning rate to 4.0000001899898055e-05.\n",
      "67/67 [==============================] - 39s 582ms/step - loss: 0.6822 - categorical_accuracy: 0.7861 - val_loss: 1.3666 - val_categorical_accuracy: 0.6100 - lr: 2.0000e-04\n",
      "Epoch 19/50\n",
      "67/67 [==============================] - ETA: 0s - loss: 0.5811 - categorical_accuracy: 0.8010\n",
      "Epoch 00019: saving model to model_init_2024-09-2809_47_11.576041/model-00019-0.58110-0.80100-0.96997-0.68000.h5\n",
      "67/67 [==============================] - 38s 575ms/step - loss: 0.5811 - categorical_accuracy: 0.8010 - val_loss: 0.9700 - val_categorical_accuracy: 0.6800 - lr: 4.0000e-05\n",
      "Epoch 20/50\n",
      "67/67 [==============================] - ETA: 0s - loss: 0.5055 - categorical_accuracy: 0.7811\n",
      "Epoch 00020: saving model to model_init_2024-09-2809_47_11.576041/model-00020-0.50545-0.78109-1.13566-0.64000.h5\n",
      "67/67 [==============================] - 38s 567ms/step - loss: 0.5055 - categorical_accuracy: 0.7811 - val_loss: 1.1357 - val_categorical_accuracy: 0.6400 - lr: 4.0000e-05\n",
      "Epoch 21/50\n",
      "67/67 [==============================] - ETA: 0s - loss: 0.5267 - categorical_accuracy: 0.7861\n",
      "Epoch 00021: saving model to model_init_2024-09-2809_47_11.576041/model-00021-0.52665-0.78607-1.09596-0.65000.h5\n",
      "67/67 [==============================] - 38s 571ms/step - loss: 0.5267 - categorical_accuracy: 0.7861 - val_loss: 1.0960 - val_categorical_accuracy: 0.6500 - lr: 4.0000e-05\n",
      "Epoch 22/50\n",
      "67/67 [==============================] - ETA: 0s - loss: 0.4256 - categorical_accuracy: 0.8557\n",
      "Epoch 00022: saving model to model_init_2024-09-2809_47_11.576041/model-00022-0.42563-0.85572-1.14195-0.64000.h5\n",
      "67/67 [==============================] - 39s 580ms/step - loss: 0.4256 - categorical_accuracy: 0.8557 - val_loss: 1.1419 - val_categorical_accuracy: 0.6400 - lr: 4.0000e-05\n",
      "Epoch 23/50\n",
      "67/67 [==============================] - ETA: 0s - loss: 0.4752 - categorical_accuracy: 0.8507\n",
      "Epoch 00023: saving model to model_init_2024-09-2809_47_11.576041/model-00023-0.47516-0.85075-1.01831-0.71000.h5\n",
      "67/67 [==============================] - 38s 571ms/step - loss: 0.4752 - categorical_accuracy: 0.8507 - val_loss: 1.0183 - val_categorical_accuracy: 0.7100 - lr: 4.0000e-05\n",
      "Epoch 24/50\n",
      "67/67 [==============================] - ETA: 0s - loss: 0.5593 - categorical_accuracy: 0.7910\n",
      "Epoch 00024: saving model to model_init_2024-09-2809_47_11.576041/model-00024-0.55929-0.79104-1.29780-0.62000.h5\n",
      "\n",
      "Epoch 00024: ReduceLROnPlateau reducing learning rate to 8.000000525498762e-06.\n",
      "67/67 [==============================] - 39s 583ms/step - loss: 0.5593 - categorical_accuracy: 0.7910 - val_loss: 1.2978 - val_categorical_accuracy: 0.6200 - lr: 4.0000e-05\n",
      "Epoch 25/50\n",
      "67/67 [==============================] - ETA: 0s - loss: 0.4604 - categorical_accuracy: 0.8358\n",
      "Epoch 00025: saving model to model_init_2024-09-2809_47_11.576041/model-00025-0.46042-0.83582-1.15669-0.69000.h5\n",
      "67/67 [==============================] - 38s 570ms/step - loss: 0.4604 - categorical_accuracy: 0.8358 - val_loss: 1.1567 - val_categorical_accuracy: 0.6900 - lr: 8.0000e-06\n",
      "Epoch 26/50\n",
      "67/67 [==============================] - ETA: 0s - loss: 0.3851 - categorical_accuracy: 0.8507\n",
      "Epoch 00026: saving model to model_init_2024-09-2809_47_11.576041/model-00026-0.38509-0.85075-1.00917-0.61000.h5\n",
      "67/67 [==============================] - 39s 578ms/step - loss: 0.3851 - categorical_accuracy: 0.8507 - val_loss: 1.0092 - val_categorical_accuracy: 0.6100 - lr: 8.0000e-06\n",
      "Epoch 27/50\n",
      "67/67 [==============================] - ETA: 0s - loss: 0.5642 - categorical_accuracy: 0.7910\n",
      "Epoch 00027: saving model to model_init_2024-09-2809_47_11.576041/model-00027-0.56424-0.79104-0.93435-0.69000.h5\n",
      "67/67 [==============================] - 38s 574ms/step - loss: 0.5642 - categorical_accuracy: 0.7910 - val_loss: 0.9344 - val_categorical_accuracy: 0.6900 - lr: 8.0000e-06\n",
      "Epoch 28/50\n",
      "67/67 [==============================] - ETA: 0s - loss: 0.4830 - categorical_accuracy: 0.8308\n",
      "Epoch 00028: saving model to model_init_2024-09-2809_47_11.576041/model-00028-0.48299-0.83085-1.07040-0.66000.h5\n",
      "67/67 [==============================] - 38s 573ms/step - loss: 0.4830 - categorical_accuracy: 0.8308 - val_loss: 1.0704 - val_categorical_accuracy: 0.6600 - lr: 8.0000e-06\n",
      "Epoch 29/50\n",
      "67/67 [==============================] - ETA: 0s - loss: 0.4897 - categorical_accuracy: 0.8358\n",
      "Epoch 00029: saving model to model_init_2024-09-2809_47_11.576041/model-00029-0.48972-0.83582-1.26542-0.66000.h5\n",
      "67/67 [==============================] - 39s 580ms/step - loss: 0.4897 - categorical_accuracy: 0.8358 - val_loss: 1.2654 - val_categorical_accuracy: 0.6600 - lr: 8.0000e-06\n",
      "Epoch 30/50\n",
      "67/67 [==============================] - ETA: 0s - loss: 0.4953 - categorical_accuracy: 0.8209\n",
      "Epoch 00030: saving model to model_init_2024-09-2809_47_11.576041/model-00030-0.49527-0.82090-0.94867-0.73000.h5\n",
      "67/67 [==============================] - 38s 573ms/step - loss: 0.4953 - categorical_accuracy: 0.8209 - val_loss: 0.9487 - val_categorical_accuracy: 0.7300 - lr: 8.0000e-06\n",
      "Epoch 31/50\n",
      "67/67 [==============================] - ETA: 0s - loss: 0.4033 - categorical_accuracy: 0.8557\n",
      "Epoch 00031: saving model to model_init_2024-09-2809_47_11.576041/model-00031-0.40327-0.85572-1.02372-0.68000.h5\n",
      "67/67 [==============================] - 38s 577ms/step - loss: 0.4033 - categorical_accuracy: 0.8557 - val_loss: 1.0237 - val_categorical_accuracy: 0.6800 - lr: 8.0000e-06\n",
      "Epoch 32/50\n",
      "67/67 [==============================] - ETA: 0s - loss: 0.4282 - categorical_accuracy: 0.8259\n",
      "Epoch 00032: saving model to model_init_2024-09-2809_47_11.576041/model-00032-0.42821-0.82587-1.08377-0.66000.h5\n",
      "\n",
      "Epoch 00032: ReduceLROnPlateau reducing learning rate to 1.6000001778593287e-06.\n",
      "67/67 [==============================] - 38s 576ms/step - loss: 0.4282 - categorical_accuracy: 0.8259 - val_loss: 1.0838 - val_categorical_accuracy: 0.6600 - lr: 8.0000e-06\n",
      "Epoch 33/50\n",
      "67/67 [==============================] - ETA: 0s - loss: 0.4767 - categorical_accuracy: 0.7910\n",
      "Epoch 00033: saving model to model_init_2024-09-2809_47_11.576041/model-00033-0.47674-0.79104-1.13574-0.66000.h5\n",
      "67/67 [==============================] - 39s 579ms/step - loss: 0.4767 - categorical_accuracy: 0.7910 - val_loss: 1.1357 - val_categorical_accuracy: 0.6600 - lr: 1.6000e-06\n",
      "Epoch 34/50\n",
      "67/67 [==============================] - ETA: 0s - loss: 0.5913 - categorical_accuracy: 0.7612\n",
      "Epoch 00034: saving model to model_init_2024-09-2809_47_11.576041/model-00034-0.59125-0.76119-1.10017-0.66000.h5\n",
      "67/67 [==============================] - 37s 562ms/step - loss: 0.5913 - categorical_accuracy: 0.7612 - val_loss: 1.1002 - val_categorical_accuracy: 0.6600 - lr: 1.6000e-06\n",
      "Epoch 35/50\n",
      "67/67 [==============================] - ETA: 0s - loss: 0.4973 - categorical_accuracy: 0.8060\n",
      "Epoch 00035: saving model to model_init_2024-09-2809_47_11.576041/model-00035-0.49734-0.80597-1.03566-0.66000.h5\n",
      "67/67 [==============================] - 39s 582ms/step - loss: 0.4973 - categorical_accuracy: 0.8060 - val_loss: 1.0357 - val_categorical_accuracy: 0.6600 - lr: 1.6000e-06\n",
      "Epoch 36/50\n",
      "67/67 [==============================] - ETA: 0s - loss: 0.4281 - categorical_accuracy: 0.8507\n",
      "Epoch 00036: saving model to model_init_2024-09-2809_47_11.576041/model-00036-0.42811-0.85075-1.20314-0.67000.h5\n",
      "67/67 [==============================] - 38s 569ms/step - loss: 0.4281 - categorical_accuracy: 0.8507 - val_loss: 1.2031 - val_categorical_accuracy: 0.6700 - lr: 1.6000e-06\n",
      "Epoch 37/50\n",
      "67/67 [==============================] - ETA: 0s - loss: 0.5189 - categorical_accuracy: 0.8010\n",
      "Epoch 00037: saving model to model_init_2024-09-2809_47_11.576041/model-00037-0.51891-0.80100-0.97292-0.67000.h5\n",
      "\n",
      "Epoch 00037: ReduceLROnPlateau reducing learning rate to 3.200000264769187e-07.\n",
      "67/67 [==============================] - 38s 573ms/step - loss: 0.5189 - categorical_accuracy: 0.8010 - val_loss: 0.9729 - val_categorical_accuracy: 0.6700 - lr: 1.6000e-06\n",
      "Epoch 38/50\n",
      "67/67 [==============================] - ETA: 0s - loss: 0.4482 - categorical_accuracy: 0.8408\n",
      "Epoch 00038: saving model to model_init_2024-09-2809_47_11.576041/model-00038-0.44821-0.84080-1.01971-0.70000.h5\n",
      "67/67 [==============================] - 39s 583ms/step - loss: 0.4482 - categorical_accuracy: 0.8408 - val_loss: 1.0197 - val_categorical_accuracy: 0.7000 - lr: 3.2000e-07\n",
      "Epoch 39/50\n",
      "67/67 [==============================] - ETA: 0s - loss: 0.3877 - categorical_accuracy: 0.8507\n",
      "Epoch 00039: saving model to model_init_2024-09-2809_47_11.576041/model-00039-0.38773-0.85075-0.97365-0.65000.h5\n",
      "67/67 [==============================] - 38s 571ms/step - loss: 0.3877 - categorical_accuracy: 0.8507 - val_loss: 0.9736 - val_categorical_accuracy: 0.6500 - lr: 3.2000e-07\n",
      "Epoch 40/50\n",
      "67/67 [==============================] - ETA: 0s - loss: 0.4981 - categorical_accuracy: 0.7861\n",
      "Epoch 00040: saving model to model_init_2024-09-2809_47_11.576041/model-00040-0.49814-0.78607-1.18288-0.66000.h5\n",
      "67/67 [==============================] - 39s 579ms/step - loss: 0.4981 - categorical_accuracy: 0.7861 - val_loss: 1.1829 - val_categorical_accuracy: 0.6600 - lr: 3.2000e-07\n",
      "Epoch 41/50\n",
      "67/67 [==============================] - ETA: 0s - loss: 0.4541 - categorical_accuracy: 0.8358\n",
      "Epoch 00041: saving model to model_init_2024-09-2809_47_11.576041/model-00041-0.45407-0.83582-1.08707-0.68000.h5\n",
      "67/67 [==============================] - 38s 576ms/step - loss: 0.4541 - categorical_accuracy: 0.8358 - val_loss: 1.0871 - val_categorical_accuracy: 0.6800 - lr: 3.2000e-07\n",
      "Epoch 42/50\n",
      "67/67 [==============================] - ETA: 0s - loss: 0.4750 - categorical_accuracy: 0.8159\n",
      "Epoch 00042: saving model to model_init_2024-09-2809_47_11.576041/model-00042-0.47502-0.81592-1.09520-0.64000.h5\n",
      "\n",
      "Epoch 00042: ReduceLROnPlateau reducing learning rate to 6.400000529538374e-08.\n",
      "67/67 [==============================] - 38s 575ms/step - loss: 0.4750 - categorical_accuracy: 0.8159 - val_loss: 1.0952 - val_categorical_accuracy: 0.6400 - lr: 3.2000e-07\n",
      "Epoch 43/50\n",
      "67/67 [==============================] - ETA: 0s - loss: 0.4872 - categorical_accuracy: 0.8259\n",
      "Epoch 00043: saving model to model_init_2024-09-2809_47_11.576041/model-00043-0.48716-0.82587-1.06430-0.69000.h5\n",
      "67/67 [==============================] - 38s 572ms/step - loss: 0.4872 - categorical_accuracy: 0.8259 - val_loss: 1.0643 - val_categorical_accuracy: 0.6900 - lr: 6.4000e-08\n",
      "Epoch 44/50\n",
      "67/67 [==============================] - ETA: 0s - loss: 0.5764 - categorical_accuracy: 0.8159\n",
      "Epoch 00044: saving model to model_init_2024-09-2809_47_11.576041/model-00044-0.57636-0.81592-1.01095-0.64000.h5\n",
      "67/67 [==============================] - 38s 573ms/step - loss: 0.5764 - categorical_accuracy: 0.8159 - val_loss: 1.0109 - val_categorical_accuracy: 0.6400 - lr: 6.4000e-08\n",
      "Epoch 45/50\n",
      "67/67 [==============================] - ETA: 0s - loss: 0.6299 - categorical_accuracy: 0.8060\n",
      "Epoch 00045: saving model to model_init_2024-09-2809_47_11.576041/model-00045-0.62994-0.80597-1.03479-0.72000.h5\n",
      "67/67 [==============================] - 39s 578ms/step - loss: 0.6299 - categorical_accuracy: 0.8060 - val_loss: 1.0348 - val_categorical_accuracy: 0.7200 - lr: 6.4000e-08\n",
      "Epoch 46/50\n",
      "67/67 [==============================] - ETA: 0s - loss: 0.4438 - categorical_accuracy: 0.8557\n",
      "Epoch 00046: saving model to model_init_2024-09-2809_47_11.576041/model-00046-0.44376-0.85572-0.95579-0.71000.h5\n",
      "67/67 [==============================] - 38s 573ms/step - loss: 0.4438 - categorical_accuracy: 0.8557 - val_loss: 0.9558 - val_categorical_accuracy: 0.7100 - lr: 6.4000e-08\n",
      "Epoch 47/50\n",
      "67/67 [==============================] - ETA: 0s - loss: 0.5146 - categorical_accuracy: 0.8259\n",
      "Epoch 00047: saving model to model_init_2024-09-2809_47_11.576041/model-00047-0.51458-0.82587-1.02338-0.70000.h5\n",
      "\n",
      "Epoch 00047: ReduceLROnPlateau reducing learning rate to 1.2800001059076749e-08.\n",
      "67/67 [==============================] - 38s 572ms/step - loss: 0.5146 - categorical_accuracy: 0.8259 - val_loss: 1.0234 - val_categorical_accuracy: 0.7000 - lr: 6.4000e-08\n",
      "Epoch 48/50\n",
      "67/67 [==============================] - ETA: 0s - loss: 0.6202 - categorical_accuracy: 0.7910\n",
      "Epoch 00048: saving model to model_init_2024-09-2809_47_11.576041/model-00048-0.62015-0.79104-0.96247-0.67000.h5\n",
      "67/67 [==============================] - 38s 575ms/step - loss: 0.6202 - categorical_accuracy: 0.7910 - val_loss: 0.9625 - val_categorical_accuracy: 0.6700 - lr: 1.2800e-08\n",
      "Epoch 49/50\n",
      "67/67 [==============================] - ETA: 0s - loss: 0.5665 - categorical_accuracy: 0.8109\n",
      "Epoch 00049: saving model to model_init_2024-09-2809_47_11.576041/model-00049-0.56652-0.81095-1.10954-0.70000.h5\n",
      "67/67 [==============================] - 38s 576ms/step - loss: 0.5665 - categorical_accuracy: 0.8109 - val_loss: 1.1095 - val_categorical_accuracy: 0.7000 - lr: 1.2800e-08\n",
      "Epoch 50/50\n",
      "67/67 [==============================] - ETA: 0s - loss: 0.4038 - categorical_accuracy: 0.8607\n",
      "Epoch 00050: saving model to model_init_2024-09-2809_47_11.576041/model-00050-0.40384-0.86070-1.20364-0.64000.h5\n",
      "67/67 [==============================] - 38s 570ms/step - loss: 0.4038 - categorical_accuracy: 0.8607 - val_loss: 1.2036 - val_categorical_accuracy: 0.6400 - lr: 1.2800e-08\n"
     ]
    },
    {
     "data": {
      "text/plain": [
       "<keras.callbacks.History at 0x7efdcc0e9580>"
      ]
     },
     "execution_count": 63,
     "metadata": {},
     "output_type": "execute_result"
    }
   ],
   "source": [
    "history = model.fit(train_generator, steps_per_epoch=steps_per_epoch, epochs=num_epochs, verbose=1, \n",
    "                    callbacks=callbacks_list, validation_data=val_generator, \n",
    "                    validation_steps=validation_steps, class_weight=None, workers=1, initial_epoch=0, max_queue_size=3000)"
   ]
  },
  {
   "cell_type": "code",
   "execution_count": 66,
   "metadata": {},
   "outputs": [
    {
     "ename": "NameError",
     "evalue": "name 'history' is not defined",
     "output_type": "error",
     "traceback": [
      "\u001b[0;31m---------------------------------------------------------------------------\u001b[0m",
      "\u001b[0;31mNameError\u001b[0m                                 Traceback (most recent call last)",
      "\u001b[0;32m/tmp/ipykernel_203/3840165731.py\u001b[0m in \u001b[0;36m<module>\u001b[0;34m\u001b[0m\n\u001b[1;32m      1\u001b[0m \u001b[0mplt\u001b[0m\u001b[0;34m.\u001b[0m\u001b[0mfigure\u001b[0m\u001b[0;34m(\u001b[0m\u001b[0mfigsize\u001b[0m \u001b[0;34m=\u001b[0m \u001b[0;34m(\u001b[0m\u001b[0;36m10\u001b[0m\u001b[0;34m,\u001b[0m\u001b[0;36m10\u001b[0m\u001b[0;34m)\u001b[0m\u001b[0;34m)\u001b[0m\u001b[0;34m\u001b[0m\u001b[0;34m\u001b[0m\u001b[0m\n\u001b[1;32m      2\u001b[0m \u001b[0;34m\u001b[0m\u001b[0m\n\u001b[0;32m----> 3\u001b[0;31m \u001b[0macc\u001b[0m \u001b[0;34m=\u001b[0m \u001b[0mhistory\u001b[0m\u001b[0;34m.\u001b[0m\u001b[0mhistory\u001b[0m\u001b[0;34m[\u001b[0m\u001b[0;34m'categorical_accuracy'\u001b[0m\u001b[0;34m]\u001b[0m\u001b[0;34m\u001b[0m\u001b[0;34m\u001b[0m\u001b[0m\n\u001b[0m\u001b[1;32m      4\u001b[0m \u001b[0mval_acc\u001b[0m \u001b[0;34m=\u001b[0m \u001b[0mhistory\u001b[0m\u001b[0;34m.\u001b[0m\u001b[0mhistory\u001b[0m\u001b[0;34m[\u001b[0m\u001b[0;34m'val_categorical_accuracy'\u001b[0m\u001b[0;34m]\u001b[0m\u001b[0;34m\u001b[0m\u001b[0;34m\u001b[0m\u001b[0m\n\u001b[1;32m      5\u001b[0m \u001b[0;34m\u001b[0m\u001b[0m\n",
      "\u001b[0;31mNameError\u001b[0m: name 'history' is not defined"
     ]
    },
    {
     "data": {
      "text/plain": [
       "<Figure size 720x720 with 0 Axes>"
      ]
     },
     "metadata": {},
     "output_type": "display_data"
    }
   ],
   "source": [
    "plt.figure(figsize = (10,10))\n",
    "\n",
    "acc = history.history['categorical_accuracy']\n",
    "val_acc = history.history['val_categorical_accuracy']\n",
    "\n",
    "loss = history.history['loss']\n",
    "val_loss = history.history['val_loss']\n",
    "\n",
    "epochs_range = range(num_epochs)\n",
    "\n",
    "plt.figure(figsize=(8, 8))\n",
    "plt.subplot(1, 2, 1)\n",
    "plt.plot(epochs_range, acc, label='Training Accuracy')\n",
    "plt.plot(epochs_range, val_acc, label='Validation Accuracy')\n",
    "plt.legend(loc='lower right')\n",
    "plt.title('Training and Validation Accuracy')\n",
    "\n",
    "plt.subplot(1, 2, 2)\n",
    "plt.plot(epochs_range, loss, label='Training Loss')\n",
    "plt.plot(epochs_range, val_loss, label='Validation Loss')\n",
    "plt.legend(loc='upper right')\n",
    "plt.title('Training and Validation Loss')\n",
    "plt.show()"
   ]
  },
  {
   "cell_type": "code",
   "execution_count": 72,
   "metadata": {},
   "outputs": [
    {
     "ename": "ValueError",
     "evalue": "axes don't match array",
     "output_type": "error",
     "traceback": [
      "\u001b[0;31m---------------------------------------------------------------------------\u001b[0m",
      "\u001b[0;31mValueError\u001b[0m                                Traceback (most recent call last)",
      "\u001b[0;32m/tmp/ipykernel_203/2435002785.py\u001b[0m in \u001b[0;36m<module>\u001b[0;34m\u001b[0m\n\u001b[1;32m      2\u001b[0m \u001b[0;34m\u001b[0m\u001b[0m\n\u001b[1;32m      3\u001b[0m \u001b[0;31m# load model\u001b[0m\u001b[0;34m\u001b[0m\u001b[0;34m\u001b[0m\u001b[0;34m\u001b[0m\u001b[0m\n\u001b[0;32m----> 4\u001b[0;31m \u001b[0mmodel\u001b[0m \u001b[0;34m=\u001b[0m \u001b[0mload_model\u001b[0m\u001b[0;34m(\u001b[0m\u001b[0;34m'/home/dl_content/Upgrad DL/Gesture Recognition Assignment/model_init_2024-09-2809_47_11.576041/model-00050-0.40384-0.86070-1.20364-0.64000.h5'\u001b[0m\u001b[0;34m)\u001b[0m\u001b[0;34m\u001b[0m\u001b[0;34m\u001b[0m\u001b[0m\n\u001b[0m\u001b[1;32m      5\u001b[0m \u001b[0;31m# summarize model.\u001b[0m\u001b[0;34m\u001b[0m\u001b[0;34m\u001b[0m\u001b[0;34m\u001b[0m\u001b[0m\n\u001b[1;32m      6\u001b[0m \u001b[0mmodel\u001b[0m\u001b[0;34m.\u001b[0m\u001b[0msummary\u001b[0m\u001b[0;34m(\u001b[0m\u001b[0;34m)\u001b[0m\u001b[0;34m\u001b[0m\u001b[0;34m\u001b[0m\u001b[0m\n",
      "\u001b[0;32m/usr/local/lib/python3.8/dist-packages/keras/utils/traceback_utils.py\u001b[0m in \u001b[0;36merror_handler\u001b[0;34m(*args, **kwargs)\u001b[0m\n\u001b[1;32m     65\u001b[0m     \u001b[0;32mexcept\u001b[0m \u001b[0mException\u001b[0m \u001b[0;32mas\u001b[0m \u001b[0me\u001b[0m\u001b[0;34m:\u001b[0m  \u001b[0;31m# pylint: disable=broad-except\u001b[0m\u001b[0;34m\u001b[0m\u001b[0;34m\u001b[0m\u001b[0m\n\u001b[1;32m     66\u001b[0m       \u001b[0mfiltered_tb\u001b[0m \u001b[0;34m=\u001b[0m \u001b[0m_process_traceback_frames\u001b[0m\u001b[0;34m(\u001b[0m\u001b[0me\u001b[0m\u001b[0;34m.\u001b[0m\u001b[0m__traceback__\u001b[0m\u001b[0;34m)\u001b[0m\u001b[0;34m\u001b[0m\u001b[0;34m\u001b[0m\u001b[0m\n\u001b[0;32m---> 67\u001b[0;31m       \u001b[0;32mraise\u001b[0m \u001b[0me\u001b[0m\u001b[0;34m.\u001b[0m\u001b[0mwith_traceback\u001b[0m\u001b[0;34m(\u001b[0m\u001b[0mfiltered_tb\u001b[0m\u001b[0;34m)\u001b[0m \u001b[0;32mfrom\u001b[0m \u001b[0;32mNone\u001b[0m\u001b[0;34m\u001b[0m\u001b[0;34m\u001b[0m\u001b[0m\n\u001b[0m\u001b[1;32m     68\u001b[0m     \u001b[0;32mfinally\u001b[0m\u001b[0;34m:\u001b[0m\u001b[0;34m\u001b[0m\u001b[0;34m\u001b[0m\u001b[0m\n\u001b[1;32m     69\u001b[0m       \u001b[0;32mdel\u001b[0m \u001b[0mfiltered_tb\u001b[0m\u001b[0;34m\u001b[0m\u001b[0;34m\u001b[0m\u001b[0m\n",
      "\u001b[0;32m<__array_function__ internals>\u001b[0m in \u001b[0;36mtranspose\u001b[0;34m(*args, **kwargs)\u001b[0m\n",
      "\u001b[0;32m/usr/local/lib/python3.8/dist-packages/numpy/core/fromnumeric.py\u001b[0m in \u001b[0;36mtranspose\u001b[0;34m(a, axes)\u001b[0m\n\u001b[1;32m    651\u001b[0m \u001b[0;34m\u001b[0m\u001b[0m\n\u001b[1;32m    652\u001b[0m     \"\"\"\n\u001b[0;32m--> 653\u001b[0;31m     \u001b[0;32mreturn\u001b[0m \u001b[0m_wrapfunc\u001b[0m\u001b[0;34m(\u001b[0m\u001b[0ma\u001b[0m\u001b[0;34m,\u001b[0m \u001b[0;34m'transpose'\u001b[0m\u001b[0;34m,\u001b[0m \u001b[0maxes\u001b[0m\u001b[0;34m)\u001b[0m\u001b[0;34m\u001b[0m\u001b[0;34m\u001b[0m\u001b[0m\n\u001b[0m\u001b[1;32m    654\u001b[0m \u001b[0;34m\u001b[0m\u001b[0m\n\u001b[1;32m    655\u001b[0m \u001b[0;34m\u001b[0m\u001b[0m\n",
      "\u001b[0;32m/usr/local/lib/python3.8/dist-packages/numpy/core/fromnumeric.py\u001b[0m in \u001b[0;36m_wrapfunc\u001b[0;34m(obj, method, *args, **kwds)\u001b[0m\n\u001b[1;32m     56\u001b[0m \u001b[0;34m\u001b[0m\u001b[0m\n\u001b[1;32m     57\u001b[0m     \u001b[0;32mtry\u001b[0m\u001b[0;34m:\u001b[0m\u001b[0;34m\u001b[0m\u001b[0;34m\u001b[0m\u001b[0m\n\u001b[0;32m---> 58\u001b[0;31m         \u001b[0;32mreturn\u001b[0m \u001b[0mbound\u001b[0m\u001b[0;34m(\u001b[0m\u001b[0;34m*\u001b[0m\u001b[0margs\u001b[0m\u001b[0;34m,\u001b[0m \u001b[0;34m**\u001b[0m\u001b[0mkwds\u001b[0m\u001b[0;34m)\u001b[0m\u001b[0;34m\u001b[0m\u001b[0;34m\u001b[0m\u001b[0m\n\u001b[0m\u001b[1;32m     59\u001b[0m     \u001b[0;32mexcept\u001b[0m \u001b[0mTypeError\u001b[0m\u001b[0;34m:\u001b[0m\u001b[0;34m\u001b[0m\u001b[0;34m\u001b[0m\u001b[0m\n\u001b[1;32m     60\u001b[0m         \u001b[0;31m# A TypeError occurs if the object does have such a method in its\u001b[0m\u001b[0;34m\u001b[0m\u001b[0;34m\u001b[0m\u001b[0;34m\u001b[0m\u001b[0m\n",
      "\u001b[0;31mValueError\u001b[0m: axes don't match array"
     ]
    }
   ],
   "source": [
    "from tensorflow.keras.models import load_model\n",
    " \n",
    "# load model\n",
    "model = load_model('/home/dl_content/Upgrad DL/Gesture Recognition Assignment/model_init_2024-09-2809_47_11.576041/model-00050-0.40384-0.86070-1.20364-0.64000.h5')\n",
    "# summarize model.\n",
    "model.summary()"
   ]
  },
  {
   "cell_type": "code",
   "execution_count": null,
   "metadata": {},
   "outputs": [],
   "source": [
    "# Evaluate on Validation data\n",
    "scores = model.evaluate(val_generator, verbose=1, steps=validation_steps*10, max_queue_size=3000, workers=1, use_multiprocessing=False)\n",
    "print(\"%s%s: %.2f%%\" % (\"evaluate \",model.metrics_names[1], scores[1]*100))"
   ]
  }
 ],
 "metadata": {
  "kernelspec": {
   "display_name": "Python 3 (ipykernel)",
   "language": "python",
   "name": "python3"
  },
  "language_info": {
   "codemirror_mode": {
    "name": "ipython",
    "version": 3
   },
   "file_extension": ".py",
   "mimetype": "text/x-python",
   "name": "python",
   "nbconvert_exporter": "python",
   "pygments_lexer": "ipython3",
   "version": "3.8.10"
  }
 },
 "nbformat": 4,
 "nbformat_minor": 4
}
